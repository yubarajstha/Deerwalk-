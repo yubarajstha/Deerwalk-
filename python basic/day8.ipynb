{
 "cells": [
  {
   "cell_type": "markdown",
   "id": "2cdc399f-047a-45ec-bdd8-a423fca19f67",
   "metadata": {},
   "source": [
    "# day 8"
   ]
  },
  {
   "cell_type": "code",
   "execution_count": 7,
   "id": "dc74c573-aca9-4f56-af69-07be9760f475",
   "metadata": {},
   "outputs": [
    {
     "name": "stdout",
     "output_type": "stream",
     "text": [
      "Name: Alice, Age: 20\n",
      "Name: Alice, Age: 21\n"
     ]
    }
   ],
   "source": [
    "class Student:\n",
    "    def __init__(self, name, age):\n",
    "        self.name = name\n",
    "        self.__age = age  # Private variable\n",
    "\n",
    "    def show_info(self):\n",
    "        print(f\"Name: {self.name}, Age: {self.__age}\")  # Removed the colon at the end\n",
    "\n",
    "    def set_age(self, age):\n",
    "        if age > 0:\n",
    "            self.__age = age\n",
    "\n",
    "s1 = Student(\"Alice\", 20)\n",
    "s1.show_info()\n",
    "s1.set_age(21)\n",
    "s1.show_info()"
   ]
  },
  {
   "cell_type": "code",
   "execution_count": 8,
   "id": "9d6f5214-0891-4566-8a57-31deca192170",
   "metadata": {},
   "outputs": [
    {
     "name": "stdout",
     "output_type": "stream",
     "text": [
      "Dog barks\n"
     ]
    }
   ],
   "source": [
    "class Animal:\n",
    "    def speak(self):\n",
    "        print(\"Animal makes a sound\")\n",
    "class Dog(Animal): # dog inherit from aninal\n",
    "    def speak(self):\n",
    "        print(\"Dog barks\")\n",
    "d= Dog()\n",
    "d.speak()"
   ]
  },
  {
   "cell_type": "code",
   "execution_count": 9,
   "id": "987fed61-489c-4c55-92d1-630bf7209777",
   "metadata": {},
   "outputs": [
    {
     "name": "stdout",
     "output_type": "stream",
     "text": [
      "Cat mewos\n",
      "Dog barks\n"
     ]
    }
   ],
   "source": [
    "class Cat:\n",
    "    def speak(self):\n",
    "        print(\"Cat mewos\")\n",
    "class Dog:\n",
    "    def speak(self):\n",
    "        print(\"Dog barks\")\n",
    "def make_sound(animal):\n",
    "    animal.speak()\n",
    "\n",
    "make_sound(Cat())\n",
    "make_sound(Dog())\n"
   ]
  },
  {
   "cell_type": "code",
   "execution_count": 10,
   "id": "a897002a-ae06-4a4e-8c12-44c0f59e5c8b",
   "metadata": {},
   "outputs": [
    {
     "name": "stdout",
     "output_type": "stream",
     "text": [
      "Area: 78.5\n"
     ]
    }
   ],
   "source": [
    "from abc import ABC, abstractmethod\n",
    "\n",
    "class Shape(ABC):\n",
    "    @abstractmethod\n",
    "    def area(self):\n",
    "        pass\n",
    "class Circle(Shape):\n",
    "    def __init__(self, radius):\n",
    "        self.radius = radius\n",
    "    def area(self):\n",
    "        return 3.14* self.radius ** 2\n",
    "c= Circle(5)\n",
    "print(\"Area:\", c.area())"
   ]
  },
  {
   "cell_type": "code",
   "execution_count": null,
   "id": "4c17ab81-a73a-484d-abb5-4488e24222f4",
   "metadata": {},
   "outputs": [],
   "source": [
    "# read the example.txt\n"
   ]
  }
 ],
 "metadata": {
  "kernelspec": {
   "display_name": "Python 3 (ipykernel)",
   "language": "python",
   "name": "python3"
  },
  "language_info": {
   "codemirror_mode": {
    "name": "ipython",
    "version": 3
   },
   "file_extension": ".py",
   "mimetype": "text/x-python",
   "name": "python",
   "nbconvert_exporter": "python",
   "pygments_lexer": "ipython3",
   "version": "3.13.2"
  }
 },
 "nbformat": 4,
 "nbformat_minor": 5
}
