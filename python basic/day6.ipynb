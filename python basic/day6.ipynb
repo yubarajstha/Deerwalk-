{
 "cells": [
  {
   "cell_type": "markdown",
   "id": "8e47e428-897f-40fb-93c3-c892c2065552",
   "metadata": {},
   "source": [
    "### DAY 6"
   ]
  },
  {
   "cell_type": "code",
   "execution_count": 3,
   "id": "5539d593-473f-47bc-91d2-2caa6866fc30",
   "metadata": {},
   "outputs": [],
   "source": [
    "# FUNCTION IN PYTHON"
   ]
  },
  {
   "cell_type": "code",
   "execution_count": 6,
   "id": "616869f5-9c4d-4100-9349-1bb59e3bced7",
   "metadata": {},
   "outputs": [
    {
     "name": "stdout",
     "output_type": "stream",
     "text": [
      "1 if you add one: 2\n",
      "2\n"
     ]
    }
   ],
   "source": [
    "def add(a):\n",
    "    b= a+1;\n",
    "    print(a,\"if you add one:\",b)\n",
    "    return (b)\n",
    "c=add(1)\n",
    "print(c)"
   ]
  },
  {
   "cell_type": "code",
   "execution_count": 9,
   "id": "1cad966a-61f3-42f6-908d-cf1b612e996f",
   "metadata": {},
   "outputs": [
    {
     "name": "stdin",
     "output_type": "stream",
     "text": [
      "enter first numner: 9\n",
      "enter first numner: 10\n"
     ]
    },
    {
     "name": "stdout",
     "output_type": "stream",
     "text": [
      "90\n"
     ]
    }
   ],
   "source": [
    "def add(a,b):\n",
    "    mul = a*b\n",
    "    return mul\n",
    "first=int(input(\"enter first numner:\"))\n",
    "second=int(input(\"enter first numner:\"))\n",
    "\n",
    "m=add(first,second)\n",
    "print(m)"
   ]
  },
  {
   "cell_type": "code",
   "execution_count": 10,
   "id": "f39bd2ad-920f-422a-8613-606752573a39",
   "metadata": {},
   "outputs": [
    {
     "name": "stdin",
     "output_type": "stream",
     "text": [
      "enter first numner: 5\n",
      "enter first numner: 6\n"
     ]
    },
    {
     "name": "stdout",
     "output_type": "stream",
     "text": [
      "30.0\n"
     ]
    }
   ],
   "source": [
    "def add(a,b):\n",
    "    mul = a*b\n",
    "    return mul\n",
    "first=float(input(\"enter first numner:\"))\n",
    "second=float(input(\"enter first numner:\"))\n",
    "\n",
    "m=add(first,second)\n",
    "print(m)"
   ]
  },
  {
   "cell_type": "code",
   "execution_count": 13,
   "id": "238345f7-1117-4f1b-a5ea-e6a9e0af604a",
   "metadata": {},
   "outputs": [
    {
     "name": "stdin",
     "output_type": "stream",
     "text": [
      "enter first numner: 5\n",
      "enter first numner: cat\n"
     ]
    },
    {
     "name": "stdout",
     "output_type": "stream",
     "text": [
      "catcatcatcatcat\n"
     ]
    }
   ],
   "source": [
    "# \n",
    "def add(a,b):\n",
    "    mul = a*b\n",
    "    return mul\n",
    "first=int(input(\"enter first numner:\"))\n",
    "second=str(input(\"enter first numner:\"))\n",
    "\n",
    "m=add(first,second)\n",
    "print(m)\n"
   ]
  },
  {
   "cell_type": "code",
   "execution_count": 19,
   "id": "edf41eb9-eb20-40df-b0c0-02398514d904",
   "metadata": {},
   "outputs": [
    {
     "name": "stdout",
     "output_type": "stream",
     "text": [
      "1 if you square +1 2\n",
      "return value is: 2\n"
     ]
    }
   ],
   "source": [
    "# local variable in python\n",
    "def square(a):\n",
    "    b=1\n",
    "    c=a*a+b\n",
    "    print(a,\"if you square +1\",c)\n",
    "    return c\n",
    "z=square(1)\n",
    "print(\"return value is:\",z)\n"
   ]
  },
  {
   "cell_type": "markdown",
   "id": "b4ae4433-6237-4cf7-875c-7f6e96cad9f3",
   "metadata": {},
   "source": []
  },
  {
   "cell_type": "code",
   "execution_count": null,
   "id": "1d8c7927-07d3-45be-91ca-9a899eeaa5a8",
   "metadata": {},
   "outputs": [],
   "source": [
    "# global\n"
   ]
  },
  {
   "cell_type": "code",
   "execution_count": 21,
   "id": "e04e2d00-b7d7-44f4-b958-71e86e6635a2",
   "metadata": {},
   "outputs": [
    {
     "name": "stdout",
     "output_type": "stream",
     "text": [
      "micahael jackson\n",
      "michael jackson\n"
     ]
    }
   ],
   "source": [
    "# define function , one with return type value none and other without \n",
    "def mj():\n",
    "    print(\"micahael jackson\")\n",
    "def mj1():\n",
    "    print(\"michael jackson\")\n",
    "    return None\n",
    "mj()\n",
    "mj1()"
   ]
  },
  {
   "cell_type": "code",
   "execution_count": 22,
   "id": "66541f2a-c908-487e-9bf6-67abcbe8c96b",
   "metadata": {},
   "outputs": [
    {
     "name": "stdout",
     "output_type": "stream",
     "text": [
      "Yubarajshrestha\n"
     ]
    }
   ],
   "source": [
    "# string concatenation\n",
    "def con(a,b):\n",
    "    c= a+b\n",
    "    return c\n",
    "a= con(\"Yubaraj\",\"shrestha\")\n",
    "print(a)"
   ]
  },
  {
   "cell_type": "code",
   "execution_count": 23,
   "id": "57e339ab-7e35-4a03-889c-352a2971dae0",
   "metadata": {},
   "outputs": [
    {
     "data": {
      "text/plain": [
       "5"
      ]
     },
     "execution_count": 23,
     "metadata": {},
     "output_type": "execute_result"
    }
   ],
   "source": [
    "a1=4\n",
    "b1=5\n",
    "c1= a1+b1+2 *a1*b1-1\n",
    "if c1<0:\n",
    "    c1=0\n",
    "else:\n",
    "    c1=5\n",
    "c1"
   ]
  },
  {
   "cell_type": "code",
   "execution_count": 28,
   "id": "5985f397-0fdb-466b-8f4f-4ef9d1340f95",
   "metadata": {},
   "outputs": [
    {
     "data": {
      "text/plain": [
       "0"
      ]
     },
     "execution_count": 28,
     "metadata": {},
     "output_type": "execute_result"
    }
   ],
   "source": [
    "def equation(a1,b1):\n",
    "    c1= a1+b1+2 *a1*b1-1\n",
    "    if c1<0:\n",
    "        c1=0\n",
    "    else:\n",
    "        c1=5\n",
    "    return c1\n",
    "\n",
    "c2= equation(0,0)\n",
    "c2"
   ]
  },
  {
   "cell_type": "code",
   "execution_count": 29,
   "id": "dddee6c1-4d8a-4377-9a69-0ad27db6a5e5",
   "metadata": {},
   "outputs": [
    {
     "name": "stdout",
     "output_type": "stream",
     "text": [
      "[10.7, 44, 5.9, 77.0, 55.9]\n"
     ]
    }
   ],
   "source": [
    "# built in function\n",
    "album_ratings=[10.7,44,5.9,77.0,55.9]\n",
    "print(album_ratings)"
   ]
  },
  {
   "cell_type": "code",
   "execution_count": 30,
   "id": "a9c62499-fe50-4538-bf57-44acb948859c",
   "metadata": {},
   "outputs": [
    {
     "data": {
      "text/plain": [
       "193.5"
      ]
     },
     "execution_count": 30,
     "metadata": {},
     "output_type": "execute_result"
    }
   ],
   "source": [
    "\n",
    "sum(album_ratings)"
   ]
  },
  {
   "cell_type": "code",
   "execution_count": 31,
   "id": "9222f751-f6b6-498d-815d-bbf987c450a1",
   "metadata": {},
   "outputs": [
    {
     "data": {
      "text/plain": [
       "5"
      ]
     },
     "execution_count": 31,
     "metadata": {},
     "output_type": "execute_result"
    }
   ],
   "source": [
    "len(album_ratings)"
   ]
  },
  {
   "cell_type": "code",
   "execution_count": 32,
   "id": "fb1bec52-9148-44d3-beba-a05b1170219f",
   "metadata": {},
   "outputs": [
    {
     "ename": "TypeError",
     "evalue": "'int' object is not iterable",
     "output_type": "error",
     "traceback": [
      "\u001b[31m---------------------------------------------------------------------------\u001b[39m",
      "\u001b[31mTypeError\u001b[39m                                 Traceback (most recent call last)",
      "\u001b[36mCell\u001b[39m\u001b[36m \u001b[39m\u001b[32mIn[32]\u001b[39m\u001b[32m, line 2\u001b[39m\n\u001b[32m      1\u001b[39m \u001b[38;5;66;03m# inbuilt functin\u001b[39;00m\n\u001b[32m----> \u001b[39m\u001b[32m2\u001b[39m \u001b[38;5;28;43msum\u001b[39;49m\u001b[43m(\u001b[49m\u001b[32;43m1\u001b[39;49m\u001b[43m,\u001b[49m\u001b[32;43m2\u001b[39;49m\u001b[43m)\u001b[49m\n",
      "\u001b[31mTypeError\u001b[39m: 'int' object is not iterable"
     ]
    }
   ],
   "source": [
    "# inbuilt function  only list or set can be sum\n",
    "\n",
    "sum(1,2)"
   ]
  },
  {
   "cell_type": "code",
   "execution_count": 33,
   "id": "d63d3fb5-4715-47d7-851b-7eb5edd35cfd",
   "metadata": {},
   "outputs": [
    {
     "data": {
      "text/plain": [
       "3"
      ]
     },
     "execution_count": 33,
     "metadata": {},
     "output_type": "execute_result"
    }
   ],
   "source": [
    "# here executing tuple in sum built in fuicntion\n",
    "a=(1,2)\n",
    "c=sum(a)\n",
    "c\n"
   ]
  },
  {
   "cell_type": "code",
   "execution_count": 34,
   "id": "593ae0c3-43c1-4573-980e-a4a76debec4c",
   "metadata": {},
   "outputs": [
    {
     "data": {
      "text/plain": [
       "3"
      ]
     },
     "execution_count": 34,
     "metadata": {},
     "output_type": "execute_result"
    }
   ],
   "source": [
    "a=[1,2]\n",
    "aa=sum(a)\n",
    "aa"
   ]
  },
  {
   "cell_type": "code",
   "execution_count": null,
   "id": "a07ff5bf-3aec-4277-bbd1-5db16ca8a965",
   "metadata": {},
   "outputs": [],
   "source": [
    "# using if else in fucntin\n",
    "def type_of_album(artist, album, year_relased):\n",
    "    print(artist, albuim, year_released)\n",
    "    if year_released > 1980:\n",
    "        return \"Modern\"\n",
    "    else:\n",
    "        return \"oldie\"\n",
    "x=\n",
    "    "
   ]
  },
  {
   "cell_type": "code",
   "execution_count": 35,
   "id": "d3202492-85ff-4862-a430-e68d529d2d1f",
   "metadata": {},
   "outputs": [],
   "source": [
    "def printlist(the_list):\n",
    "    for element in the_list:\n",
    "        print(element)"
   ]
  },
  {
   "cell_type": "code",
   "execution_count": 38,
   "id": "6603083d-d987-4046-a5cd-2dbc37361fb9",
   "metadata": {},
   "outputs": [
    {
     "name": "stdout",
     "output_type": "stream",
     "text": [
      "1\n",
      "1\n",
      "the man\n",
      "abc\n"
     ]
    }
   ],
   "source": [
    "printlist([\"1\",1,\"the man\",\"abc\"])"
   ]
  },
  {
   "cell_type": "code",
   "execution_count": 40,
   "id": "6092a846-9885-4efe-979b-8ca2b8a0aca3",
   "metadata": {},
   "outputs": [
    {
     "data": {
      "text/plain": [
       "False"
      ]
     },
     "execution_count": 40,
     "metadata": {},
     "output_type": "execute_result"
    }
   ],
   "source": [
    "# compare string using operator\n",
    "s= \"my name is harry\"\n",
    "def comm(x):\n",
    "    if x== s:\n",
    "        return True\n",
    "    else:\n",
    "        return False\n",
    "y=comm(\"happy\")\n",
    "y"
   ]
  },
  {
   "cell_type": "code",
   "execution_count": 41,
   "id": "eac1564a-cd21-46be-99e7-8b95fa901c6d",
   "metadata": {},
   "outputs": [
    {
     "name": "stdout",
     "output_type": "stream",
     "text": [
      "the frequency of words is: {'Kathmandu': 1, 'is': 1, 'the': 1, 'Capital': 1, 'city': 1, 'of': 1, 'nepal': 1}\n"
     ]
    }
   ],
   "source": [
    "# frequency of word\n",
    "def freq(string):\n",
    "    word=[]\n",
    "    word = string.split()  # string.lower().split()\n",
    "    Dict ={}\n",
    "    for key in word:\n",
    "        Dict[key]= word.count(key)\n",
    "    print(\"the frequency of words is:\", Dict)\n",
    "freq(\"Kathmandu is the Capital city of nepal\")"
   ]
  },
  {
   "cell_type": "code",
   "execution_count": 45,
   "id": "77bab380-f534-45bb-a0e8-0e3c40489dbf",
   "metadata": {},
   "outputs": [
    {
     "data": {
      "text/plain": [
       "['nepal', 'is', 'beautiful', 'country']"
      ]
     },
     "execution_count": 45,
     "metadata": {},
     "output_type": "execute_result"
    }
   ],
   "source": [
    "a=\"nepal is beautiful country\"\n",
    "b= a.split()\n",
    "b\n"
   ]
  },
  {
   "cell_type": "code",
   "execution_count": 51,
   "id": "0e905ed5-c561-4054-98c4-7a15a6ddf001",
   "metadata": {},
   "outputs": [
    {
     "name": "stdout",
     "output_type": "stream",
     "text": [
      "This albuim sucks its rating 4\n",
      "this album is good its rating is 10\n"
     ]
    }
   ],
   "source": [
    "# example for default paramater\n",
    "def IsGoodRating(rating=4):\n",
    "    if(rating<7):\n",
    "        print(\"This albuim sucks its rating\",rating)\n",
    "    else:\n",
    "        print(\"this album is good its rating is\",rating)\n",
    "\n",
    "IsGoodRating()\n",
    "IsGoodRating(10)\n"
   ]
  },
  {
   "cell_type": "code",
   "execution_count": 50,
   "id": "8d6e9ee6-a966-4654-b3b2-73b0e1300ddc",
   "metadata": {},
   "outputs": [
    {
     "name": "stdout",
     "output_type": "stream",
     "text": [
      "7\n"
     ]
    },
    {
     "data": {
      "text/plain": [
       "7"
      ]
     },
     "execution_count": 50,
     "metadata": {},
     "output_type": "execute_result"
    }
   ],
   "source": [
    "def add(a,b=1):\n",
    "    c= a+b\n",
    "    print(c)\n",
    "    return c\n",
    "add(2,5)\n"
   ]
  },
  {
   "cell_type": "code",
   "execution_count": 54,
   "id": "fb2b940a-be3d-4df2-a66d-6bfcbaae9c15",
   "metadata": {},
   "outputs": [
    {
     "name": "stdout",
     "output_type": "stream",
     "text": [
      "AC/DC's rating is: 0.0\n",
      "Deep Purple's rating is: 10.0\n",
      "My Favoute band's rating is: AC/DC\n"
     ]
    }
   ],
   "source": [
    "# global and local variable with same name\n",
    "myfavoutiteBand= \"AC/DC\"\n",
    "def GetBandRating(bandname):\n",
    "    if bandname == \"Deep Purple\":\n",
    "        return 10.0\n",
    "    else:\n",
    "        return 0.0\n",
    "print(\"AC/DC's rating is:\",GetBandRating(\"AC/DC\"))\n",
    "print(\"Deep Purple's rating is:\",GetBandRating(\"Deep Purple\"))\n",
    "print(\"My Favoute band's rating is:\",myfavoutiteBand)\n"
   ]
  },
  {
   "cell_type": "code",
   "execution_count": 53,
   "id": "e160c25a-3f41-469f-bc5b-b3107fc06a5b",
   "metadata": {},
   "outputs": [
    {
     "data": {
      "text/plain": [
       "120"
      ]
     },
     "execution_count": 53,
     "metadata": {},
     "output_type": "execute_result"
    }
   ],
   "source": [
    "def fact(n):\n",
    "    if (n==1 or n==0):\n",
    "        return 1\n",
    "    return fact(n-1)*n\n",
    "fact(5)"
   ]
  },
  {
   "cell_type": "code",
   "execution_count": null,
   "id": "cf077a3d-9b3b-453e-b53f-e3a9401e32ac",
   "metadata": {},
   "outputs": [],
   "source": []
  }
 ],
 "metadata": {
  "kernelspec": {
   "display_name": "Python 3 (ipykernel)",
   "language": "python",
   "name": "python3"
  },
  "language_info": {
   "codemirror_mode": {
    "name": "ipython",
    "version": 3
   },
   "file_extension": ".py",
   "mimetype": "text/x-python",
   "name": "python",
   "nbconvert_exporter": "python",
   "pygments_lexer": "ipython3",
   "version": "3.13.2"
  }
 },
 "nbformat": 4,
 "nbformat_minor": 5
}
