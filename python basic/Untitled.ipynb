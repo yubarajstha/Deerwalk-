{
 "cells": [
  {
   "cell_type": "markdown",
   "id": "b51e6118-31b5-495a-a7eb-10c10fe98350",
   "metadata": {},
   "source": [
    "## day\n"
   ]
  },
  {
   "cell_type": "code",
   "execution_count": null,
   "id": "9279895f-d869-4bce-b206-893fbe0c403c",
   "metadata": {},
   "outputs": [],
   "source": []
  }
 ],
 "metadata": {
  "kernelspec": {
   "display_name": "Python 3 (ipykernel)",
   "language": "python",
   "name": "python3"
  },
  "language_info": {
   "codemirror_mode": {
    "name": "ipython",
    "version": 3
   },
   "file_extension": ".py",
   "mimetype": "text/x-python",
   "name": "python",
   "nbconvert_exporter": "python",
   "pygments_lexer": "ipython3",
   "version": "3.13.2"
  }
 },
 "nbformat": 4,
 "nbformat_minor": 5
}
