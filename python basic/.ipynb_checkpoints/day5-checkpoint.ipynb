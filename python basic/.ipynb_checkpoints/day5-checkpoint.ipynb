{
 "cells": [
  {
   "cell_type": "markdown",
   "id": "7a7b88c8-ab89-41c7-91b5-5a9d217ca0d4",
   "metadata": {},
   "source": [
    "## Day 5"
   ]
  },
  {
   "cell_type": "code",
   "execution_count": 5,
   "id": "7bab753c-3b63-4683-b1b4-56ab5dda1fd0",
   "metadata": {},
   "outputs": [],
   "source": [
    "# looping in python\n",
    "# while loop"
   ]
  },
  {
   "cell_type": "code",
   "execution_count": 4,
   "id": "271d4e48-d3e8-4df0-ab63-455752a47b4e",
   "metadata": {},
   "outputs": [
    {
     "name": "stdout",
     "output_type": "stream",
     "text": [
      "Hello\n",
      "Hello\n",
      "Hello\n",
      "Hello\n",
      "Hello\n"
     ]
    }
   ],
   "source": [
    "count= 1\n",
    "while count<=5:\n",
    "    print(\"Hello\")\n",
    "    count +=1"
   ]
  },
  {
   "cell_type": "code",
   "execution_count": 6,
   "id": "591af685-ce11-4f76-8700-e1ad404c046b",
   "metadata": {},
   "outputs": [
    {
     "name": "stdout",
     "output_type": "stream",
     "text": [
      "hello\n",
      "hello\n",
      "hello\n",
      "hello\n",
      "hello\n",
      "hello\n",
      "hello\n",
      "hello\n",
      "hello\n",
      "hello\n"
     ]
    }
   ],
   "source": [
    "count = 10\n",
    "while count>0:\n",
    "    print(\"hello\")\n",
    "    count-=1"
   ]
  },
  {
   "cell_type": "code",
   "execution_count": 7,
   "id": "fa517b8e-2d7b-48f7-908f-51a943801f14",
   "metadata": {},
   "outputs": [
    {
     "name": "stdout",
     "output_type": "stream",
     "text": [
      "1\n",
      "2\n",
      "3\n",
      "4\n",
      "5\n",
      "8\n",
      "5\n",
      "6\n",
      "7\n",
      "9\n"
     ]
    }
   ],
   "source": [
    "num = [1,2,3,4,5,8,5,6,7,9]\n",
    "i= 0\n",
    "while i< len(num):\n",
    "    print(num[i])\n",
    "    i+=1\n"
   ]
  },
  {
   "cell_type": "code",
   "execution_count": 17,
   "id": "a5e8c826-b1b2-4b3e-aab3-aaa72567c4a5",
   "metadata": {},
   "outputs": [
    {
     "name": "stdout",
     "output_type": "stream",
     "text": [
      "i have the element at the  index i: 2\n"
     ]
    }
   ],
   "source": [
    "num = [1,2,3,4,5,8,5,6,7,9]\n",
    "i= 0\n",
    "while i< len(num):\n",
    "    if (num[i]==3):\n",
    "        print(\"i have the element at the  index i:\",i)\n",
    "    i+=1"
   ]
  },
  {
   "cell_type": "code",
   "execution_count": null,
   "id": "19229851-ab20-4ff2-aea8-6accb795052c",
   "metadata": {},
   "outputs": [],
   "source": [
    "# break\n",
    "num = [1,2,3,4,5,8,5,6,7,9]\n",
    "i= 0\n",
    "while i< len(num):\n",
    "    if (num[i]==3):\n",
    "        print(\"i have the element at the  index i:\",i)\n",
    "        break\n",
    "    else:\n",
    "        print(\"searching the index\")\n",
    "    i+=1\n",
    "    print(\"end of the loop\")\n",
    "    \n"
   ]
  },
  {
   "cell_type": "code",
   "execution_count": null,
   "id": "eebacd20-0c2a-43a2-99c2-08107bdb1802",
   "metadata": {},
   "outputs": [],
   "source": [
    "# date \n",
    "dates= [1992,1998,2000,2005]\n",
    "\n",
    "i = 0\n",
    "year = dates[0]\n",
    "while (year!=1992):\n",
    "    print(year)\n",
    "    i=i+1\n",
    "    year = dates[i]\n",
    "print(\"it took  \",i ,\"repeatation to get out of the loop\")\n",
    "\n"
   ]
  },
  {
   "cell_type": "code",
   "execution_count": 5,
   "id": "0aedb688-6306-4ef7-b71f-b20a892222af",
   "metadata": {},
   "outputs": [
    {
     "name": "stdout",
     "output_type": "stream",
     "text": [
      "1992\n",
      "it took   1 repeatation to get out of the loop\n"
     ]
    }
   ],
   "source": [
    "# date \n",
    "dates= [1992,1998,2000,2005]\n",
    "i = 0\n",
    "year = dates[0]\n",
    "while (year != 1998):\n",
    "    print(year)\n",
    "    i=i+1\n",
    "    year = dates[i]\n",
    "print(\"it took  \",i ,\"repeatation to get out of the loop\")"
   ]
  },
  {
   "cell_type": "code",
   "execution_count": null,
   "id": "e1895c46-4072-4266-b120-fb08851800f5",
   "metadata": {},
   "outputs": [],
   "source": [
    "# range\n",
    "range(3)\n"
   ]
  },
  {
   "cell_type": "code",
   "execution_count": 3,
   "id": "2b63482c-5f4a-4dd4-b3f4-207929a04f01",
   "metadata": {},
   "outputs": [
    {
     "name": "stdout",
     "output_type": "stream",
     "text": [
      "1992\n",
      "1998\n",
      "2000\n",
      "2005\n"
     ]
    }
   ],
   "source": [
    "dat= [1992,1998,2000,2005]\n",
    "d= len(dat)\n",
    "for i in range(d):\n",
    "    print(dat[i])"
   ]
  },
  {
   "cell_type": "code",
   "execution_count": 8,
   "id": "e05c4af7-2bcf-425c-b565-a4882be78908",
   "metadata": {},
   "outputs": [],
   "source": [
    "da= [1992,1998,2000,2005]\n",
    "de= len(da)\n",
    "for i in range(de,1,2):\n",
    "    print(da[i])\n"
   ]
  },
  {
   "cell_type": "code",
   "execution_count": 12,
   "id": "d8f33e95-4c45-4283-9abd-82fbb7906eba",
   "metadata": {},
   "outputs": [
    {
     "name": "stdout",
     "output_type": "stream",
     "text": [
      "0\n",
      "2\n",
      "4\n"
     ]
    }
   ],
   "source": [
    "for i in range(0,6,2):\n",
    "    print(i)"
   ]
  },
  {
   "cell_type": "code",
   "execution_count": 13,
   "id": "af0d1067-0120-4926-b3a9-7e1a5e961c52",
   "metadata": {},
   "outputs": [
    {
     "name": "stdout",
     "output_type": "stream",
     "text": [
      "1992\n",
      "1998\n",
      "2000\n",
      "2005\n"
     ]
    }
   ],
   "source": [
    "datt= [1992,1998,2000,2005]\n",
    "for i in datt:\n",
    "    print(i)"
   ]
  },
  {
   "cell_type": "code",
   "execution_count": 17,
   "id": "934c13be-4d36-4ff2-9c85-5256e4181f65",
   "metadata": {},
   "outputs": [
    {
     "name": "stdout",
     "output_type": "stream",
     "text": [
      "syx\n",
      "wzy\n",
      "pqr\n",
      "djg\n"
     ]
    }
   ],
   "source": [
    "nameof_movie= [\"syx\",\"wzy\",\"pqr\",\"djg\"]\n",
    "for i in nameof_movie:\n",
    "    print(i)"
   ]
  },
  {
   "cell_type": "code",
   "execution_count": 18,
   "id": "7ce7981c-4a19-4081-8e41-4adb40c387ec",
   "metadata": {},
   "outputs": [
    {
     "name": "stdout",
     "output_type": "stream",
     "text": [
      "h\n",
      "e\n",
      "l\n",
      "l\n",
      "o\n",
      " \n",
      "r\n",
      "o\n",
      "r\n",
      "l\n",
      "d\n"
     ]
    }
   ],
   "source": [
    "str1= \"hello rorld\"\n",
    "for i in str1:\n",
    "    print(i)"
   ]
  },
  {
   "cell_type": "code",
   "execution_count": 20,
   "id": "dadcdc3b-2c22-4922-8a95-d14d72bf2891",
   "metadata": {},
   "outputs": [
    {
     "name": "stdout",
     "output_type": "stream",
     "text": [
      "['h', 'e', 'l', 'l', 'o', ' ', 'r', 'o', 'r', 'l', 'd']\n"
     ]
    }
   ],
   "source": [
    "str1= \"hello rorld\"\n",
    "z=list(str1)\n",
    "print(z)"
   ]
  },
  {
   "cell_type": "code",
   "execution_count": 24,
   "id": "f5fde945-0f0b-4433-ad48-51e6c1676df5",
   "metadata": {},
   "outputs": [
    {
     "name": "stdin",
     "output_type": "stream",
     "text": [
      "Enter any number 5\n",
      "Enter any number 6\n"
     ]
    },
    {
     "name": "stdout",
     "output_type": "stream",
     "text": [
      "5\n"
     ]
    }
   ],
   "source": [
    "start= int(input(\"Enter any number\"))\n",
    "end= int(input(\"Enter any number\"))\n",
    "for i in range(start,end,2):\n",
    "        print(i)"
   ]
  },
  {
   "cell_type": "code",
   "execution_count": 22,
   "id": "83dc0ef4-3dc9-44ad-bf90-558f94e1380c",
   "metadata": {},
   "outputs": [
    {
     "name": "stdout",
     "output_type": "stream",
     "text": [
      "2\n",
      "4\n",
      "6\n",
      "8\n"
     ]
    }
   ],
   "source": [
    "for i in range(2,10,2):\n",
    "    print(i)"
   ]
  },
  {
   "cell_type": "code",
   "execution_count": 23,
   "id": "65fdd0b2-2f4c-4bdb-9fd6-5efe5075288f",
   "metadata": {
    "scrolled": true
   },
   "outputs": [
    {
     "name": "stdout",
     "output_type": "stream",
     "text": [
      "1\n",
      "3\n",
      "5\n",
      "7\n",
      "9\n"
     ]
    }
   ],
   "source": [
    "for i in range(1,10,2):\n",
    "    print(i)"
   ]
  },
  {
   "cell_type": "code",
   "execution_count": 5,
   "id": "6b98093f-d7f3-4ed1-89e3-96d6e2a60eae",
   "metadata": {},
   "outputs": [
    {
     "name": "stdout",
     "output_type": "stream",
     "text": [
      "Before square  0 is red,\n",
      "Before square  0 is white\n",
      "Before square  1 is yellow\n",
      "Before square  1 is white\n",
      "Before square  2 is green\n",
      "Before square  2 is white\n",
      "Before square  3 is blue\n",
      "Before square  3 is white\n",
      "Before square  4 is green\n",
      "Before square  4 is white\n"
     ]
    }
   ],
   "source": [
    "# ACCESSING AND MODIFYING ELEMENT IN A LIST \n",
    "square = [\"red,\",\"yellow\",\"green\",\"blue\",\"green\"]\n",
    "for i in range(0,5):\n",
    "    print(\"Before square \",i,\"is\", square[i])\n",
    "    square[i]= \"white\"\n",
    "    print(\"Before square \",i,\"is\", square[i])"
   ]
  },
  {
   "cell_type": "code",
   "execution_count": 27,
   "id": "fa590f64-2390-4cec-9590-8af46d644c2e",
   "metadata": {},
   "outputs": [
    {
     "name": "stdout",
     "output_type": "stream",
     "text": [
      "0 red,yellow0\n",
      "1 green\n",
      "2 blue\n",
      "3 green\n"
     ]
    }
   ],
   "source": [
    "# loop throug the list and print index and value using enumerate\n",
    "square = [\"red,\" \"yellow0\",\"green\",\"blue\",\"green\"]\n",
    "for i, sq in enumerate(square):\n",
    "    print(i,sq)"
   ]
  },
  {
   "cell_type": "code",
   "execution_count": 6,
   "id": "b5a74ad2-50f2-40de-9f25-b97634de687f",
   "metadata": {},
   "outputs": [
    {
     "name": "stdout",
     "output_type": "stream",
     "text": [
      "-5\n",
      "-4\n",
      "-3\n",
      "-2\n",
      "-1\n",
      "0\n",
      "1\n",
      "2\n",
      "3\n",
      "4\n"
     ]
    }
   ],
   "source": [
    "# RANGE \n",
    "for i in range(-5,5):\n",
    "    print(i)"
   ]
  },
  {
   "cell_type": "code",
   "execution_count": 29,
   "id": "6dcfa212-725c-443f-8c1a-f30acc134eed",
   "metadata": {},
   "outputs": [
    {
     "name": "stdout",
     "output_type": "stream",
     "text": [
      "rock\n",
      "P&B\n",
      "soundtrack\n",
      "R&B\n"
     ]
    }
   ],
   "source": [
    "genres= ['rock','P&B','soundtrack','R&B']\n",
    "for i in range(len(genres)):\n",
    "    print(genres[i])"
   ]
  },
  {
   "cell_type": "code",
   "execution_count": 11,
   "id": "f63bb97a-9ec3-4ece-8957-e64bb404c9c6",
   "metadata": {},
   "outputs": [
    {
     "name": "stdout",
     "output_type": "stream",
     "text": [
      "Multiplication of 14 :\n",
      " 14 * 1 :  14\n",
      " 14 * 2 :  28\n",
      " 14 * 3 :  42\n",
      " 14 * 4 :  56\n",
      " 14 * 5 :  70\n",
      " 14 * 6 :  84\n",
      " 14 * 7 :  98\n",
      " 14 * 8 :  112\n",
      " 14 * 9 :  126\n"
     ]
    }
   ],
   "source": [
    "print(\"Multiplication of 14 :\")\n",
    "for i in range(1,10):\n",
    "    print(f\" 14 * {i} : \",14*i)"
   ]
  },
  {
   "cell_type": "code",
   "execution_count": 33,
   "id": "5f134570-45fc-463b-959f-45b6f459f5bb",
   "metadata": {},
   "outputs": [
    {
     "name": "stdin",
     "output_type": "stream",
     "text": [
      "Enter the start terms: 3\n",
      "Enter the start terms: 20\n"
     ]
    },
    {
     "name": "stdout",
     "output_type": "stream",
     "text": [
      "\n",
      "Table of 3:\n",
      "3 x 1 = 3\n",
      "3 x 2 = 6\n",
      "3 x 3 = 9\n",
      "3 x 4 = 12\n",
      "3 x 5 = 15\n",
      "3 x 6 = 18\n",
      "3 x 7 = 21\n",
      "3 x 8 = 24\n",
      "3 x 9 = 27\n",
      "3 x 10 = 30\n",
      "\n",
      "Table of 4:\n",
      "4 x 1 = 4\n",
      "4 x 2 = 8\n",
      "4 x 3 = 12\n",
      "4 x 4 = 16\n",
      "4 x 5 = 20\n",
      "4 x 6 = 24\n",
      "4 x 7 = 28\n",
      "4 x 8 = 32\n",
      "4 x 9 = 36\n",
      "4 x 10 = 40\n",
      "\n",
      "Table of 5:\n",
      "5 x 1 = 5\n",
      "5 x 2 = 10\n",
      "5 x 3 = 15\n",
      "5 x 4 = 20\n",
      "5 x 5 = 25\n",
      "5 x 6 = 30\n",
      "5 x 7 = 35\n",
      "5 x 8 = 40\n",
      "5 x 9 = 45\n",
      "5 x 10 = 50\n",
      "\n",
      "Table of 6:\n",
      "6 x 1 = 6\n",
      "6 x 2 = 12\n",
      "6 x 3 = 18\n",
      "6 x 4 = 24\n",
      "6 x 5 = 30\n",
      "6 x 6 = 36\n",
      "6 x 7 = 42\n",
      "6 x 8 = 48\n",
      "6 x 9 = 54\n",
      "6 x 10 = 60\n",
      "\n",
      "Table of 7:\n",
      "7 x 1 = 7\n",
      "7 x 2 = 14\n",
      "7 x 3 = 21\n",
      "7 x 4 = 28\n",
      "7 x 5 = 35\n",
      "7 x 6 = 42\n",
      "7 x 7 = 49\n",
      "7 x 8 = 56\n",
      "7 x 9 = 63\n",
      "7 x 10 = 70\n",
      "\n",
      "Table of 8:\n",
      "8 x 1 = 8\n",
      "8 x 2 = 16\n",
      "8 x 3 = 24\n",
      "8 x 4 = 32\n",
      "8 x 5 = 40\n",
      "8 x 6 = 48\n",
      "8 x 7 = 56\n",
      "8 x 8 = 64\n",
      "8 x 9 = 72\n",
      "8 x 10 = 80\n",
      "\n",
      "Table of 9:\n",
      "9 x 1 = 9\n",
      "9 x 2 = 18\n",
      "9 x 3 = 27\n",
      "9 x 4 = 36\n",
      "9 x 5 = 45\n",
      "9 x 6 = 54\n",
      "9 x 7 = 63\n",
      "9 x 8 = 72\n",
      "9 x 9 = 81\n",
      "9 x 10 = 90\n",
      "\n",
      "Table of 10:\n",
      "10 x 1 = 10\n",
      "10 x 2 = 20\n",
      "10 x 3 = 30\n",
      "10 x 4 = 40\n",
      "10 x 5 = 50\n",
      "10 x 6 = 60\n",
      "10 x 7 = 70\n",
      "10 x 8 = 80\n",
      "10 x 9 = 90\n",
      "10 x 10 = 100\n",
      "\n",
      "Table of 11:\n",
      "11 x 1 = 11\n",
      "11 x 2 = 22\n",
      "11 x 3 = 33\n",
      "11 x 4 = 44\n",
      "11 x 5 = 55\n",
      "11 x 6 = 66\n",
      "11 x 7 = 77\n",
      "11 x 8 = 88\n",
      "11 x 9 = 99\n",
      "11 x 10 = 110\n",
      "\n",
      "Table of 12:\n",
      "12 x 1 = 12\n",
      "12 x 2 = 24\n",
      "12 x 3 = 36\n",
      "12 x 4 = 48\n",
      "12 x 5 = 60\n",
      "12 x 6 = 72\n",
      "12 x 7 = 84\n",
      "12 x 8 = 96\n",
      "12 x 9 = 108\n",
      "12 x 10 = 120\n",
      "\n",
      "Table of 13:\n",
      "13 x 1 = 13\n",
      "13 x 2 = 26\n",
      "13 x 3 = 39\n",
      "13 x 4 = 52\n",
      "13 x 5 = 65\n",
      "13 x 6 = 78\n",
      "13 x 7 = 91\n",
      "13 x 8 = 104\n",
      "13 x 9 = 117\n",
      "13 x 10 = 130\n",
      "\n",
      "Table of 14:\n",
      "14 x 1 = 14\n",
      "14 x 2 = 28\n",
      "14 x 3 = 42\n",
      "14 x 4 = 56\n",
      "14 x 5 = 70\n",
      "14 x 6 = 84\n",
      "14 x 7 = 98\n",
      "14 x 8 = 112\n",
      "14 x 9 = 126\n",
      "14 x 10 = 140\n",
      "\n",
      "Table of 15:\n",
      "15 x 1 = 15\n",
      "15 x 2 = 30\n",
      "15 x 3 = 45\n",
      "15 x 4 = 60\n",
      "15 x 5 = 75\n",
      "15 x 6 = 90\n",
      "15 x 7 = 105\n",
      "15 x 8 = 120\n",
      "15 x 9 = 135\n",
      "15 x 10 = 150\n",
      "\n",
      "Table of 16:\n",
      "16 x 1 = 16\n",
      "16 x 2 = 32\n",
      "16 x 3 = 48\n",
      "16 x 4 = 64\n",
      "16 x 5 = 80\n",
      "16 x 6 = 96\n",
      "16 x 7 = 112\n",
      "16 x 8 = 128\n",
      "16 x 9 = 144\n",
      "16 x 10 = 160\n",
      "\n",
      "Table of 17:\n",
      "17 x 1 = 17\n",
      "17 x 2 = 34\n",
      "17 x 3 = 51\n",
      "17 x 4 = 68\n",
      "17 x 5 = 85\n",
      "17 x 6 = 102\n",
      "17 x 7 = 119\n",
      "17 x 8 = 136\n",
      "17 x 9 = 153\n",
      "17 x 10 = 170\n",
      "\n",
      "Table of 18:\n",
      "18 x 1 = 18\n",
      "18 x 2 = 36\n",
      "18 x 3 = 54\n",
      "18 x 4 = 72\n",
      "18 x 5 = 90\n",
      "18 x 6 = 108\n",
      "18 x 7 = 126\n",
      "18 x 8 = 144\n",
      "18 x 9 = 162\n",
      "18 x 10 = 180\n",
      "\n",
      "Table of 19:\n",
      "19 x 1 = 19\n",
      "19 x 2 = 38\n",
      "19 x 3 = 57\n",
      "19 x 4 = 76\n",
      "19 x 5 = 95\n",
      "19 x 6 = 114\n",
      "19 x 7 = 133\n",
      "19 x 8 = 152\n",
      "19 x 9 = 171\n",
      "19 x 10 = 190\n"
     ]
    }
   ],
   "source": [
    "start= int(input(\"Enter the start terms:\"))\n",
    "end= int(input(\"Enter the start terms:\"))\n",
    "for num in range(start, end+1):  # 15 is excluded, so it goes up to 14\n",
    "    print(f\"\\nTable of {num}:\")\n",
    "    for i in range(1, 11):  # Table from 1 to 10\n",
    "        print(f\"{num} x {i} = {num * i}\")"
   ]
  },
  {
   "cell_type": "code",
   "execution_count": 1,
   "id": "d17ed234-489b-4fb1-9d7d-b9b07f567a31",
   "metadata": {},
   "outputs": [],
   "source": []
  },
  {
   "cell_type": "code",
   "execution_count": null,
   "id": "087a0cd6-77dd-4ffe-9b22-5b83e49e9036",
   "metadata": {},
   "outputs": [],
   "source": []
  }
 ],
 "metadata": {
  "kernelspec": {
   "display_name": "Python 3 (ipykernel)",
   "language": "python",
   "name": "python3"
  },
  "language_info": {
   "codemirror_mode": {
    "name": "ipython",
    "version": 3
   },
   "file_extension": ".py",
   "mimetype": "text/x-python",
   "name": "python",
   "nbconvert_exporter": "python",
   "pygments_lexer": "ipython3",
   "version": "3.13.2"
  }
 },
 "nbformat": 4,
 "nbformat_minor": 5
}
