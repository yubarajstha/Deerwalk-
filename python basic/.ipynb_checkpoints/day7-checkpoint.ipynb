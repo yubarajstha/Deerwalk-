{
 "cells": [
  {
   "cell_type": "markdown",
   "id": "b51e6118-31b5-495a-a7eb-10c10fe98350",
   "metadata": {},
   "source": [
    "## day\n"
   ]
  },
  {
   "cell_type": "code",
   "execution_count": null,
   "id": "fed0795e-3dac-49ad-aa4e-c5e1cb5b172a",
   "metadata": {},
   "outputs": [],
   "source": []
  },
  {
   "cell_type": "code",
   "execution_count": 1,
   "id": "9279895f-d869-4bce-b206-893fbe0c403c",
   "metadata": {},
   "outputs": [],
   "source": [
    "# exceptatin handling"
   ]
  },
  {
   "cell_type": "code",
   "execution_count": 2,
   "id": "87c2d5f8-93b2-4ce0-8813-79104d455310",
   "metadata": {},
   "outputs": [
    {
     "ename": "ZeroDivisionError",
     "evalue": "division by zero",
     "output_type": "error",
     "traceback": [
      "\u001b[31m---------------------------------------------------------------------------\u001b[39m",
      "\u001b[31mZeroDivisionError\u001b[39m                         Traceback (most recent call last)",
      "\u001b[36mCell\u001b[39m\u001b[36m \u001b[39m\u001b[32mIn[2]\u001b[39m\u001b[32m, line 1\u001b[39m\n\u001b[32m----> \u001b[39m\u001b[32m1\u001b[39m \u001b[32;43m1\u001b[39;49m\u001b[43m/\u001b[49m\u001b[32;43m0\u001b[39;49m\n",
      "\u001b[31mZeroDivisionError\u001b[39m: division by zero"
     ]
    }
   ],
   "source": [
    "1/0"
   ]
  },
  {
   "cell_type": "code",
   "execution_count": 3,
   "id": "0cd14143-b028-4218-b9c2-0c87ce11ecf8",
   "metadata": {},
   "outputs": [
    {
     "ename": "NameError",
     "evalue": "name 'a' is not defined",
     "output_type": "error",
     "traceback": [
      "\u001b[31m---------------------------------------------------------------------------\u001b[39m",
      "\u001b[31mNameError\u001b[39m                                 Traceback (most recent call last)",
      "\u001b[36mCell\u001b[39m\u001b[36m \u001b[39m\u001b[32mIn[3]\u001b[39m\u001b[32m, line 1\u001b[39m\n\u001b[32m----> \u001b[39m\u001b[32m1\u001b[39m y= \u001b[43ma\u001b[49m+\u001b[32m5\u001b[39m\n",
      "\u001b[31mNameError\u001b[39m: name 'a' is not defined"
     ]
    }
   ],
   "source": [
    "y= a+5"
   ]
  },
  {
   "cell_type": "code",
   "execution_count": 4,
   "id": "3e6ed15f-2f8f-4de0-a076-191725c63a00",
   "metadata": {},
   "outputs": [
    {
     "ename": "IndexError",
     "evalue": "list index out of range",
     "output_type": "error",
     "traceback": [
      "\u001b[31m---------------------------------------------------------------------------\u001b[39m",
      "\u001b[31mIndexError\u001b[39m                                Traceback (most recent call last)",
      "\u001b[36mCell\u001b[39m\u001b[36m \u001b[39m\u001b[32mIn[4]\u001b[39m\u001b[32m, line 2\u001b[39m\n\u001b[32m      1\u001b[39m a= [\u001b[32m1\u001b[39m,\u001b[32m2\u001b[39m,\u001b[32m3\u001b[39m]\n\u001b[32m----> \u001b[39m\u001b[32m2\u001b[39m \u001b[43ma\u001b[49m\u001b[43m[\u001b[49m\u001b[32;43m10\u001b[39;49m\u001b[43m]\u001b[49m\n",
      "\u001b[31mIndexError\u001b[39m: list index out of range"
     ]
    }
   ],
   "source": [
    "a= [1,2,3]\n",
    "a[10]"
   ]
  },
  {
   "cell_type": "code",
   "execution_count": 5,
   "id": "a11ff81d-1b31-47e9-b1e1-34477c0e3bec",
   "metadata": {},
   "outputs": [
    {
     "ename": "ZeroDivisionError",
     "evalue": "division by zero",
     "output_type": "error",
     "traceback": [
      "\u001b[31m---------------------------------------------------------------------------\u001b[39m",
      "\u001b[31mZeroDivisionError\u001b[39m                         Traceback (most recent call last)",
      "\u001b[36mCell\u001b[39m\u001b[36m \u001b[39m\u001b[32mIn[5]\u001b[39m\u001b[32m, line 3\u001b[39m\n\u001b[32m      1\u001b[39m s=\u001b[32m1\u001b[39m\n\u001b[32m      2\u001b[39m t=\u001b[32m0\u001b[39m\n\u001b[32m----> \u001b[39m\u001b[32m3\u001b[39m c=\u001b[43ms\u001b[49m\u001b[43m/\u001b[49m\u001b[43mt\u001b[49m\n\u001b[32m      4\u001b[39m \u001b[38;5;28mprint\u001b[39m(\u001b[33m\"\u001b[39m\u001b[33mnext line\u001b[39m\u001b[33m\"\u001b[39m)\n",
      "\u001b[31mZeroDivisionError\u001b[39m: division by zero"
     ]
    }
   ],
   "source": [
    "s=1\n",
    "t=0\n",
    "c=s/t\n",
    "print(\"next line\")"
   ]
  },
  {
   "cell_type": "code",
   "execution_count": 7,
   "id": "152162d0-82ef-4d6d-8c77-3300a4f6d58e",
   "metadata": {},
   "outputs": [
    {
     "name": "stdout",
     "output_type": "stream",
     "text": [
      "next line\n"
     ]
    }
   ],
   "source": [
    "s=1\n",
    "t=0\n",
    "try:\n",
    "    c=s/t\n",
    "except:\n",
    "    print(\"next line\")"
   ]
  },
  {
   "cell_type": "code",
   "execution_count": 13,
   "id": "68f42d3e-9606-49c7-9a77-6d7fe546dbdb",
   "metadata": {},
   "outputs": [
    {
     "name": "stdin",
     "output_type": "stream",
     "text": [
      "pleasae enter a number to divide a 6\n"
     ]
    },
    {
     "name": "stdout",
     "output_type": "stream",
     "text": [
      "success a= 0.16666666666666666\n",
      "hello world!\n",
      "I am good guy\n"
     ]
    }
   ],
   "source": [
    "a=1\n",
    "try:\n",
    "    b=int(input(\"pleasae enter a number to divide a\"))\n",
    "    a=a/b\n",
    "    print(\"success a=\",a)\n",
    "except:\n",
    "    print(\"There was an error\")\n",
    "print(\"hello world!\")\n",
    "print(\"I am good guy\")"
   ]
  },
  {
   "cell_type": "code",
   "execution_count": 18,
   "id": "152e6e93-e798-4425-ab21-2c6f8ef1b5e6",
   "metadata": {},
   "outputs": [
    {
     "name": "stdin",
     "output_type": "stream",
     "text": [
      "pleasae enter a number to divide a 0.4\n"
     ]
    },
    {
     "name": "stdout",
     "output_type": "stream",
     "text": [
      "You didnot provide a number\n"
     ]
    }
   ],
   "source": [
    "a=1\n",
    "try:\n",
    "    b=int(input(\"pleasae enter a number to divide a\"))\n",
    "    a=a/b\n",
    "    print(\"success a=\",a)\n",
    "except ZeroDivisionError:\n",
    "    print(\"musn't be 0 \")\n",
    "except ValueError:\n",
    "    print(\"You didnot provide a number\")\n",
    "except:\n",
    "    print(\"something went wrong\")\n"
   ]
  },
  {
   "cell_type": "code",
   "execution_count": 21,
   "id": "8705f3aa-942a-4f94-863a-7c2ab46fa18c",
   "metadata": {},
   "outputs": [
    {
     "name": "stdin",
     "output_type": "stream",
     "text": [
      "pleasae enter a number to divide a 6\n"
     ]
    },
    {
     "name": "stdout",
     "output_type": "stream",
     "text": [
      "success a= 0.16666666666666666\n",
      "Processing Complete\n"
     ]
    }
   ],
   "source": [
    "a=1\n",
    "try:\n",
    "    b=int(input(\"pleasae enter a number to divide a\"))\n",
    "    a=a/b\n",
    "except ZeroDivisionError:\n",
    "    print(\"musn't be 0 \")\n",
    "except ValueError:\n",
    "    print(\"You didnot provide a number\")\n",
    "except:\n",
    "    print(\"something went wrong\")\n",
    "else:\n",
    "    print(\"success a=\",a)\n",
    "finally:\n",
    "    print(\"Processing Complete\")"
   ]
  },
  {
   "cell_type": "code",
   "execution_count": 25,
   "id": "aa046c15-2722-4f6b-9322-d38a706d338e",
   "metadata": {},
   "outputs": [
    {
     "name": "stdin",
     "output_type": "stream",
     "text": [
      "Enter fist number: 5\n",
      "Enter second number: ste\n"
     ]
    },
    {
     "name": "stdout",
     "output_type": "stream",
     "text": [
      "Invalid  input! please enter a integer number\n"
     ]
    }
   ],
   "source": [
    "# value Error\n",
    "\n",
    "try:\n",
    "    a=int(input(\"Enter fist number:\"))\n",
    "    b=int(input(\"Enter second number:\"))\n",
    "    a= a+b\n",
    "    print(c)\n",
    "except ValueError:\n",
    "    print(\"Invalid  input! please enter a integer number\")\n"
   ]
  },
  {
   "cell_type": "markdown",
   "id": "690d81d7-b021-4355-99dd-36c2d85f85ab",
   "metadata": {},
   "source": [
    "## class in python\n"
   ]
  },
  {
   "cell_type": "code",
   "execution_count": 28,
   "id": "eca327ba-cae3-4138-986e-cc0a84321a7d",
   "metadata": {},
   "outputs": [
    {
     "name": "stdout",
     "output_type": "stream",
     "text": [
      "Yubaraj Shresha\n"
     ]
    }
   ],
   "source": [
    "class People:\n",
    "    name = \"Yubaraj Shresha\"\n",
    "    occupation=\" student\"\n",
    "s1=People()\n",
    "print(s1.name)"
   ]
  },
  {
   "cell_type": "code",
   "execution_count": 32,
   "id": "c34ba965-7bc6-4e79-badc-af016ef63e5b",
   "metadata": {},
   "outputs": [
    {
     "name": "stdout",
     "output_type": "stream",
     "text": [
      "<__main__.People object at 0x000001E5642063C0>\n",
      "aaddition of people in data base\n"
     ]
    }
   ],
   "source": [
    "class People:\n",
    "    def __init__(self):\n",
    "        print(self)\n",
    "        print(\"aaddition of people in data base\")\n",
    "s1=People()"
   ]
  },
  {
   "cell_type": "code",
   "execution_count": 33,
   "id": "b13cedfe-82bf-488f-bcb6-056a74512748",
   "metadata": {},
   "outputs": [
    {
     "name": "stdout",
     "output_type": "stream",
     "text": [
      "aaddition of people in data base\n",
      "Yubaraj Shrestha\n",
      "aaddition of people in data base\n",
      "Ram Gwali\n"
     ]
    }
   ],
   "source": [
    "class People:\n",
    "    def __init__(self, fullname):\n",
    "        self.name=fullname\n",
    "        print(\"aaddition of people in data base\")\n",
    "s1=People(\"Yubaraj Shrestha\")\n",
    "print(s1.name)\n",
    "s2=People(\"Ram Gwali\")\n",
    "print(s2.name)"
   ]
  },
  {
   "cell_type": "code",
   "execution_count": null,
   "id": "09f384a7-37b7-4725-8450-f70b3e238f1a",
   "metadata": {},
   "outputs": [],
   "source": [
    "class People:\n",
    "    def __init__(a, fullname,lastname):\n",
    "        a.name=fullname\n",
    "        a.xname=lastname\n",
    "        print(\"aaddition of people in data base\")\n",
    "s1=People(\"Yubaraj Shrestha\")\n",
    "print(s1.name)\n",
    "s2=People(\"Ram Gwali\")\n",
    "print(s2.name)\n"
   ]
  },
  {
   "cell_type": "code",
   "execution_count": 34,
   "id": "ebd06244-8ca8-4301-bbf8-da398fd9a4d3",
   "metadata": {},
   "outputs": [
    {
     "name": "stdout",
     "output_type": "stream",
     "text": [
      "aaddition of people in data base\n",
      "Yubaraj Shrestha\n",
      "aaddition of people in data base\n",
      "jdkjf\n"
     ]
    }
   ],
   "source": [
    "class People:\n",
    "    def __init__(a, fullname,lastname):\n",
    "        a.fullname=fullname\n",
    "        a.lastname=lastname\n",
    "        print(\"aaddition of people in data base\")\n",
    "s1=People(\"Yubaraj Shrestha\", \"ksjk\")\n",
    "print(s1.fullname)\n",
    "s2=People(\"Ram Gwali\",\"jdkjf\")\n",
    "print(s2.lastname)"
   ]
  },
  {
   "cell_type": "code",
   "execution_count": 37,
   "id": "e15efda2-65ff-4d3c-b844-f77257e9a168",
   "metadata": {},
   "outputs": [
    {
     "name": "stdout",
     "output_type": "stream",
     "text": [
      "aaddition of people in data base\n",
      "Yubaraj Shrestha 10000\n",
      "aaddition of people in data base\n",
      "Ram Gwali 10000\n"
     ]
    }
   ],
   "source": [
    "class People:\n",
    "    def __init__(a, fullname,networth):\n",
    "        a.fullname=fullname\n",
    "        a.worth=networth\n",
    "        print(\"aaddition of people in data base\")\n",
    "s1=People(\"Yubaraj Shrestha\", 10000)\n",
    "print(s1.fullname,s1.worth)\n",
    "s2=People(\"Ram Gwali\",500000)\n",
    "print(s2.fullname,s1.worth)"
   ]
  },
  {
   "cell_type": "code",
   "execution_count": 44,
   "id": "8e6a261e-a49f-4330-882b-27245c64ca2c",
   "metadata": {},
   "outputs": [],
   "source": [
    "class Vehicle:\n",
    "    color = \"white\"\n",
    "    def __init__(self,max_speed, milage):\n",
    "        self.max_speed= max_speedggggg\n",
    "        self.milage= milage"
   ]
  },
  {
   "cell_type": "code",
   "execution_count": 43,
   "id": "83ac4df2-12e3-4b38-8499-3b2ac5eb6389",
   "metadata": {},
   "outputs": [
    {
     "name": "stdout",
     "output_type": "stream",
     "text": [
      "properties of the Vehicle:\n",
      "color: white\n",
      "Maximum Speed : 200\n",
      "Milage: 5\n",
      "properties of the Vehicle:\n",
      "color: white\n",
      "Maximum Speed : 180\n",
      "Milage: 4\n"
     ]
    }
   ],
   "source": [
    "class Vehicle:\n",
    "    color = \"white\"\n",
    "    def __init__(self,max_speed, milage):\n",
    "        self.max_speed= max_speed\n",
    "        self.milage= milage\n",
    "        self.seating_capacity = None\n",
    "\n",
    "    def assign_seating_capacity (self, seating_capacity):\n",
    "        self.seating_capacity = seating_capacity\n",
    "\n",
    "    def display_properties(self):\n",
    "        print(\"properties of the Vehicle:\")\n",
    "        print(\"color:\", self.color)\n",
    "        print(\"Maximum Speed :\", self.max_speed)\n",
    "        print(\"Milage:\", self.seating_capacity)\n",
    "vehicle1=Vehicle(200,5000)\n",
    "vehicle1.assign_seating_capacity(5)\n",
    "vehicle1.display_properties()\n",
    "\n",
    "vehicle2=Vehicle(180,75000)\n",
    "vehicle2.assign_seating_capacity(4)\n",
    "vehicle2.display_properties()\n"
   ]
  },
  {
   "cell_type": "code",
   "execution_count": null,
   "id": "eddea78f-e8c5-4b6e-b288-5294ac8ec5b2",
   "metadata": {},
   "outputs": [],
   "source": []
  }
 ],
 "metadata": {
  "kernelspec": {
   "display_name": "Python 3 (ipykernel)",
   "language": "python",
   "name": "python3"
  },
  "language_info": {
   "codemirror_mode": {
    "name": "ipython",
    "version": 3
   },
   "file_extension": ".py",
   "mimetype": "text/x-python",
   "name": "python",
   "nbconvert_exporter": "python",
   "pygments_lexer": "ipython3",
   "version": "3.13.2"
  }
 },
 "nbformat": 4,
 "nbformat_minor": 5
}
