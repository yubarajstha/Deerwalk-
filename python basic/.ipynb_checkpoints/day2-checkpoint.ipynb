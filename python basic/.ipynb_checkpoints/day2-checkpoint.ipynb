{
 "cells": [
  {
   "cell_type": "markdown",
   "id": "47818e92-ee27-4445-9171-64c4b384975c",
   "metadata": {},
   "source": [
    "# DAY2\n"
   ]
  },
  {
   "cell_type": "markdown",
   "id": "bc9492b2-aea8-4d85-ba66-e05c38faf438",
   "metadata": {},
   "source": [
    "## int float string bollean"
   ]
  },
  {
   "cell_type": "code",
   "execution_count": 1,
   "id": "6cd11781-543f-42d4-b5f7-7589f1f77a90",
   "metadata": {},
   "outputs": [
    {
     "data": {
      "text/plain": [
       "float"
      ]
     },
     "execution_count": 1,
     "metadata": {},
     "output_type": "execute_result"
    }
   ],
   "source": [
    "type(2.14)\n"
   ]
  },
  {
   "cell_type": "code",
   "execution_count": 2,
   "id": "74d898f3-fc10-4d1a-a72a-aca3314054cf",
   "metadata": {},
   "outputs": [
    {
     "data": {
      "text/plain": [
       "str"
      ]
     },
     "execution_count": 2,
     "metadata": {},
     "output_type": "execute_result"
    }
   ],
   "source": [
    "type(\"hello world\")"
   ]
  },
  {
   "cell_type": "code",
   "execution_count": 3,
   "id": "661858e7-d5b0-40a9-94ec-3f417afa2499",
   "metadata": {},
   "outputs": [
    {
     "data": {
      "text/plain": [
       "str"
      ]
     },
     "execution_count": 3,
     "metadata": {},
     "output_type": "execute_result"
    }
   ],
   "source": [
    "type(\"1\")"
   ]
  },
  {
   "cell_type": "code",
   "execution_count": 4,
   "id": "5d8a15f5-f843-4712-9a5d-6aea8f07d8ec",
   "metadata": {},
   "outputs": [
    {
     "data": {
      "text/plain": [
       "bool"
      ]
     },
     "execution_count": 4,
     "metadata": {},
     "output_type": "execute_result"
    }
   ],
   "source": [
    "type(True)"
   ]
  },
  {
   "cell_type": "code",
   "execution_count": 5,
   "id": "2bdca99c-c5dc-4749-b6eb-f73b8ea4f48f",
   "metadata": {},
   "outputs": [
    {
     "data": {
      "text/plain": [
       "float"
      ]
     },
     "execution_count": 5,
     "metadata": {},
     "output_type": "execute_result"
    }
   ],
   "source": [
    "type(12.0)"
   ]
  },
  {
   "cell_type": "code",
   "execution_count": 6,
   "id": "b354de91-4a5c-4f64-a167-3d1fe222cfab",
   "metadata": {},
   "outputs": [
    {
     "data": {
      "text/plain": [
       "int"
      ]
     },
     "execution_count": 6,
     "metadata": {},
     "output_type": "execute_result"
    }
   ],
   "source": [
    "type(-1)"
   ]
  },
  {
   "cell_type": "code",
   "execution_count": 7,
   "id": "65fd90a7-3214-4a02-8b33-86e8a77edee2",
   "metadata": {},
   "outputs": [
    {
     "data": {
      "text/plain": [
       "int"
      ]
     },
     "execution_count": 7,
     "metadata": {},
     "output_type": "execute_result"
    }
   ],
   "source": [
    "type(0)"
   ]
  },
  {
   "cell_type": "code",
   "execution_count": 8,
   "id": "10d505b5-a26f-4fcf-98e6-0ad2d3a7fa4f",
   "metadata": {},
   "outputs": [
    {
     "data": {
      "text/plain": [
       "2.0"
      ]
     },
     "execution_count": 8,
     "metadata": {},
     "output_type": "execute_result"
    }
   ],
   "source": [
    "float(2.0)"
   ]
  },
  {
   "cell_type": "code",
   "execution_count": 10,
   "id": "6c46b525-2486-4562-a1e0-298e685d2a11",
   "metadata": {},
   "outputs": [
    {
     "data": {
      "text/plain": [
       "float"
      ]
     },
     "execution_count": 10,
     "metadata": {},
     "output_type": "execute_result"
    }
   ],
   "source": [
    "type(float(2))"
   ]
  },
  {
   "cell_type": "code",
   "execution_count": 11,
   "id": "68e475db-fea1-4aa0-9324-3e25fe059b47",
   "metadata": {},
   "outputs": [
    {
     "data": {
      "text/plain": [
       "int"
      ]
     },
     "execution_count": 11,
     "metadata": {},
     "output_type": "execute_result"
    }
   ],
   "source": [
    "type(int(2.0))\n"
   ]
  },
  {
   "cell_type": "markdown",
   "id": "ab37bc3a-76df-4a66-8fe9-816f31697c4c",
   "metadata": {},
   "source": [
    "# int  to string and repeatation of the terms"
   ]
  },
  {
   "cell_type": "code",
   "execution_count": 13,
   "id": "c42d70dd-c17d-4d99-b923-195c48c6e055",
   "metadata": {},
   "outputs": [
    {
     "ename": "TypeError",
     "evalue": "can only concatenate str (not \"int\") to str",
     "output_type": "error",
     "traceback": [
      "\u001b[31m---------------------------------------------------------------------------\u001b[39m",
      "\u001b[31mTypeError\u001b[39m                                 Traceback (most recent call last)",
      "\u001b[36mCell\u001b[39m\u001b[36m \u001b[39m\u001b[32mIn[13]\u001b[39m\u001b[32m, line 2\u001b[39m\n\u001b[32m      1\u001b[39m a=\u001b[33m\"\u001b[39m\u001b[33m1\u001b[39m\u001b[33m\"\u001b[39m\n\u001b[32m----> \u001b[39m\u001b[32m2\u001b[39m b= \u001b[43ma\u001b[49m\u001b[43m \u001b[49m\u001b[43m+\u001b[49m\u001b[43m \u001b[49m\u001b[32;43m10\u001b[39;49m\n\u001b[32m      3\u001b[39m \u001b[38;5;28mprint\u001b[39m(b)\n",
      "\u001b[31mTypeError\u001b[39m: can only concatenate str (not \"int\") to str"
     ]
    }
   ],
   "source": [
    "a=\"1\"\n",
    "b= a + 10\n",
    "print(b)"
   ]
  },
  {
   "cell_type": "code",
   "execution_count": 14,
   "id": "8b5b4164-9ad1-4573-948a-bc741a2ed8ea",
   "metadata": {},
   "outputs": [
    {
     "name": "stdout",
     "output_type": "stream",
     "text": [
      "1111111111\n"
     ]
    }
   ],
   "source": [
    "a=\"1\"\n",
    "b= a * 10\n",
    "print(b)"
   ]
  },
  {
   "cell_type": "markdown",
   "id": "3ca99205-ac00-4c12-9682-7406d0c7968a",
   "metadata": {},
   "source": [
    "# same as float"
   ]
  },
  {
   "cell_type": "markdown",
   "id": "c607290b-e0b3-4720-bc54-3e8e5c7ced32",
   "metadata": {},
   "source": [
    "# BOOLEAN  Truee Or False"
   ]
  },
  {
   "cell_type": "code",
   "execution_count": 15,
   "id": "8a850f1d-c3c8-4ead-b32d-c5d25817903c",
   "metadata": {},
   "outputs": [
    {
     "data": {
      "text/plain": [
       "bool"
      ]
     },
     "execution_count": 15,
     "metadata": {},
     "output_type": "execute_result"
    }
   ],
   "source": [
    "type(True)"
   ]
  },
  {
   "cell_type": "code",
   "execution_count": 16,
   "id": "3c853c05-f65d-4379-b95b-e18d8fd1ab61",
   "metadata": {},
   "outputs": [
    {
     "data": {
      "text/plain": [
       "bool"
      ]
     },
     "execution_count": 16,
     "metadata": {},
     "output_type": "execute_result"
    }
   ],
   "source": [
    "type(False)"
   ]
  },
  {
   "cell_type": "code",
   "execution_count": 17,
   "id": "58f755e6-c6fe-4c4f-91d3-5f8540ab774d",
   "metadata": {},
   "outputs": [
    {
     "name": "stdout",
     "output_type": "stream",
     "text": [
      "13\n"
     ]
    }
   ],
   "source": [
    "type(True)\n",
    "a=10\n",
    "b=6\n",
    "a= 7\n",
    "z = a+b\n",
    "print(z)\n"
   ]
  },
  {
   "cell_type": "code",
   "execution_count": 18,
   "id": "87033d79-2095-455d-be51-5111228cee53",
   "metadata": {},
   "outputs": [
    {
     "data": {
      "text/plain": [
       "True"
      ]
     },
     "execution_count": 18,
     "metadata": {},
     "output_type": "execute_result"
    }
   ],
   "source": [
    "bool(2)"
   ]
  },
  {
   "cell_type": "code",
   "execution_count": 19,
   "id": "faabd066-95e7-4765-98e6-f784ec5f5728",
   "metadata": {},
   "outputs": [
    {
     "data": {
      "text/plain": [
       "0.0"
      ]
     },
     "execution_count": 19,
     "metadata": {},
     "output_type": "execute_result"
    }
   ],
   "source": [
    "float(False)"
   ]
  },
  {
   "cell_type": "code",
   "execution_count": 20,
   "id": "4983fb3b-9278-49ca-b5ec-f3c1f0f4d277",
   "metadata": {},
   "outputs": [
    {
     "data": {
      "text/plain": [
       "1"
      ]
     },
     "execution_count": 20,
     "metadata": {},
     "output_type": "execute_result"
    }
   ],
   "source": [
    "int(True)"
   ]
  },
  {
   "cell_type": "code",
   "execution_count": 21,
   "id": "8841b4a3-461c-43c4-8af2-d94c9d0bdee0",
   "metadata": {},
   "outputs": [
    {
     "data": {
      "text/plain": [
       "float"
      ]
     },
     "execution_count": 21,
     "metadata": {},
     "output_type": "execute_result"
    }
   ],
   "source": [
    "type(6/2)"
   ]
  },
  {
   "cell_type": "code",
   "execution_count": 22,
   "id": "227ff66d-d5d9-4776-9264-0831b98dfbba",
   "metadata": {},
   "outputs": [
    {
     "data": {
      "text/plain": [
       "int"
      ]
     },
     "execution_count": 22,
     "metadata": {},
     "output_type": "execute_result"
    }
   ],
   "source": [
    "type(6//2)"
   ]
  },
  {
   "cell_type": "code",
   "execution_count": 24,
   "id": "cee15b1a-393e-4196-9f2b-aa5adae1807a",
   "metadata": {},
   "outputs": [
    {
     "data": {
      "text/plain": [
       "'True'"
      ]
     },
     "execution_count": 24,
     "metadata": {},
     "output_type": "execute_result"
    }
   ],
   "source": [
    "str(\"True\")"
   ]
  },
  {
   "cell_type": "code",
   "execution_count": 25,
   "id": "fb3460aa-5c16-4e5c-bde5-5d788e965658",
   "metadata": {},
   "outputs": [
    {
     "name": "stdout",
     "output_type": "stream",
     "text": [
      "3\n"
     ]
    }
   ],
   "source": [
    "print(6//2)"
   ]
  },
  {
   "cell_type": "code",
   "execution_count": 26,
   "id": "946c372d-049e-4c46-bccd-388e03582cab",
   "metadata": {},
   "outputs": [
    {
     "name": "stdout",
     "output_type": "stream",
     "text": [
      "1\n"
     ]
    }
   ],
   "source": [
    "print(6//4)"
   ]
  },
  {
   "cell_type": "code",
   "execution_count": 28,
   "id": "1e3218ba-9d6e-40aa-a1c1-b98cb99e7d6b",
   "metadata": {},
   "outputs": [
    {
     "name": "stdout",
     "output_type": "stream",
     "text": [
      "<class 'bool'>\n"
     ]
    }
   ],
   "source": [
    "print(type(\"Hello\" == \"World\"))"
   ]
  },
  {
   "cell_type": "code",
   "execution_count": 29,
   "id": "64f080a0-198d-4931-beaa-09afde4c5328",
   "metadata": {},
   "outputs": [
    {
     "data": {
      "text/plain": [
       "bool"
      ]
     },
     "execution_count": 29,
     "metadata": {},
     "output_type": "execute_result"
    }
   ],
   "source": [
    "type(\"hello\"== \"wor\")"
   ]
  },
  {
   "cell_type": "code",
   "execution_count": 30,
   "id": "a23d2ce5-da3e-4ddd-a179-59102706d44c",
   "metadata": {},
   "outputs": [
    {
     "data": {
      "text/plain": [
       "1001"
      ]
     },
     "execution_count": 30,
     "metadata": {},
     "output_type": "execute_result"
    }
   ],
   "source": [
    "int(\"1001\")"
   ]
  },
  {
   "cell_type": "code",
   "execution_count": 33,
   "id": "12f0dee0-c6c4-4f8c-977f-83351fc46ecd",
   "metadata": {},
   "outputs": [
    {
     "name": "stdout",
     "output_type": "stream",
     "text": [
      "123456.0\n"
     ]
    },
    {
     "data": {
      "text/plain": [
       "123456"
      ]
     },
     "execution_count": 33,
     "metadata": {},
     "output_type": "execute_result"
    }
   ],
   "source": [
    "a= float(\"123456\")\n",
    "print(a)\n",
    "int(a)"
   ]
  },
  {
   "cell_type": "markdown",
   "id": "7127432d-8342-448b-a159-8231c22beba1",
   "metadata": {},
   "source": [
    "# Variable and expression in python"
   ]
  },
  {
   "cell_type": "code",
   "execution_count": 34,
   "id": "6b0b157d-05b9-4857-b20b-b9d7c93d7e04",
   "metadata": {},
   "outputs": [
    {
     "data": {
      "text/plain": [
       "22"
      ]
     },
     "execution_count": 34,
     "metadata": {},
     "output_type": "execute_result"
    }
   ],
   "source": [
    "5+7+6+4"
   ]
  },
  {
   "cell_type": "code",
   "execution_count": 43,
   "id": "83527fa1-27c9-4ccf-8b19-4134b7d6f0ff",
   "metadata": {
    "jp-MarkdownHeadingCollapsed": true
   },
   "outputs": [
    {
     "data": {
      "text/plain": [
       "-20"
      ]
     },
     "execution_count": 43,
     "metadata": {},
     "output_type": "execute_result"
    }
   ],
   "source": [
    "50-70 "
   ]
  },
  {
   "cell_type": "code",
   "execution_count": 35,
   "id": "4021f8ba-386f-49f1-9ef6-513237f403af",
   "metadata": {},
   "outputs": [
    {
     "data": {
      "text/plain": [
       "7"
      ]
     },
     "execution_count": 35,
     "metadata": {},
     "output_type": "execute_result"
    }
   ],
   "source": [
    "15//2\n"
   ]
  },
  {
   "cell_type": "code",
   "execution_count": 36,
   "id": "ac28b0e0-24d9-4a33-a6ad-b1fa57e86361",
   "metadata": {},
   "outputs": [
    {
     "data": {
      "text/plain": [
       "7.5"
      ]
     },
     "execution_count": 36,
     "metadata": {},
     "output_type": "execute_result"
    }
   ],
   "source": [
    "15/2\n"
   ]
  },
  {
   "cell_type": "code",
   "execution_count": 37,
   "id": "7c1b11dd-8be5-4562-bcdd-2ea7fa438218",
   "metadata": {},
   "outputs": [
    {
     "data": {
      "text/plain": [
       "4.166666666666667"
      ]
     },
     "execution_count": 37,
     "metadata": {},
     "output_type": "execute_result"
    }
   ],
   "source": [
    "25/6"
   ]
  },
  {
   "cell_type": "code",
   "execution_count": 38,
   "id": "9ff5d012-be10-40c6-8a53-60318f1c8201",
   "metadata": {},
   "outputs": [
    {
     "data": {
      "text/plain": [
       "0"
      ]
     },
     "execution_count": 38,
     "metadata": {},
     "output_type": "execute_result"
    }
   ],
   "source": [
    "2//6"
   ]
  },
  {
   "cell_type": "code",
   "execution_count": 39,
   "id": "96cc891c-e546-4fee-8321-4e38aedaf55d",
   "metadata": {},
   "outputs": [
    {
     "data": {
      "text/plain": [
       "4.166666666666667"
      ]
     },
     "execution_count": 39,
     "metadata": {},
     "output_type": "execute_result"
    }
   ],
   "source": [
    "25/6"
   ]
  },
  {
   "cell_type": "code",
   "execution_count": 40,
   "id": "f954f9c8-21ea-482c-92e2-5ea507706a13",
   "metadata": {},
   "outputs": [
    {
     "data": {
      "text/plain": [
       "4"
      ]
     },
     "execution_count": 40,
     "metadata": {},
     "output_type": "execute_result"
    }
   ],
   "source": [
    "25//6"
   ]
  },
  {
   "cell_type": "code",
   "execution_count": 41,
   "id": "17c61a0e-b60b-436f-834e-683f0c6f5967",
   "metadata": {},
   "outputs": [
    {
     "data": {
      "text/plain": [
       "20"
      ]
     },
     "execution_count": 41,
     "metadata": {},
     "output_type": "execute_result"
    }
   ],
   "source": [
    "70-50"
   ]
  },
  {
   "cell_type": "code",
   "execution_count": 42,
   "id": "efb99ab8-b2da-43e8-8ae3-b0e5e124cfaf",
   "metadata": {},
   "outputs": [
    {
     "data": {
      "text/plain": [
       "-10"
      ]
     },
     "execution_count": 42,
     "metadata": {},
     "output_type": "execute_result"
    }
   ],
   "source": [
    "50-60"
   ]
  },
  {
   "cell_type": "code",
   "execution_count": 44,
   "id": "f5d5b931-d00f-4d2c-bb9d-9dbb12956ad5",
   "metadata": {},
   "outputs": [
    {
     "data": {
      "text/plain": [
       "80.0"
      ]
     },
     "execution_count": 44,
     "metadata": {},
     "output_type": "execute_result"
    }
   ],
   "source": [
    "160/2"
   ]
  },
  {
   "cell_type": "code",
   "execution_count": 45,
   "id": "6b32af09-3641-45c2-af5f-233e439b6737",
   "metadata": {},
   "outputs": [
    {
     "data": {
      "text/plain": [
       "200"
      ]
     },
     "execution_count": 45,
     "metadata": {},
     "output_type": "execute_result"
    }
   ],
   "source": [
    "50 + 3*50"
   ]
  },
  {
   "cell_type": "markdown",
   "id": "ce6a82d2-c6ca-44c8-85bb-3870ce15485a",
   "metadata": {},
   "source": [
    "# store value in variable\n"
   ]
  },
  {
   "cell_type": "code",
   "execution_count": 46,
   "id": "d877e1d5-2bce-4550-9758-178d86086a7a",
   "metadata": {},
   "outputs": [],
   "source": [
    "x= 2+5+6+7"
   ]
  },
  {
   "cell_type": "code",
   "execution_count": 47,
   "id": "406b95b3-b2be-45e3-971d-c43df47d2630",
   "metadata": {},
   "outputs": [
    {
     "data": {
      "text/plain": [
       "20"
      ]
     },
     "execution_count": 47,
     "metadata": {},
     "output_type": "execute_result"
    }
   ],
   "source": [
    "xS\n"
   ]
  },
  {
   "cell_type": "code",
   "execution_count": 48,
   "id": "7451f59f-430b-405f-bb41-8e7163816268",
   "metadata": {},
   "outputs": [],
   "source": [
    "y=x/6\n"
   ]
  },
  {
   "cell_type": "code",
   "execution_count": 49,
   "id": "9e01d89f-b98b-45a4-9577-55d5554d14da",
   "metadata": {},
   "outputs": [
    {
     "data": {
      "text/plain": [
       "3.3333333333333335"
      ]
     },
     "execution_count": 49,
     "metadata": {},
     "output_type": "execute_result"
    }
   ],
   "source": [
    "y"
   ]
  },
  {
   "cell_type": "code",
   "execution_count": 50,
   "id": "25a2543f-13f3-4376-950d-3789d360cbe6",
   "metadata": {},
   "outputs": [
    {
     "data": {
      "text/plain": [
       "3"
      ]
     },
     "execution_count": 50,
     "metadata": {},
     "output_type": "execute_result"
    }
   ],
   "source": [
    "int(y)"
   ]
  },
  {
   "cell_type": "code",
   "execution_count": 51,
   "id": "c54d422c-f9eb-46b2-91f9-ea545accdd4e",
   "metadata": {},
   "outputs": [
    {
     "data": {
      "text/plain": [
       "130"
      ]
     },
     "execution_count": 51,
     "metadata": {},
     "output_type": "execute_result"
    }
   ],
   "source": [
    "Total_min=20+50+60\n",
    "Total_min"
   ]
  },
  {
   "cell_type": "code",
   "execution_count": 53,
   "id": "a945e0ec-ceb2-4352-8c85-8401f725257a",
   "metadata": {},
   "outputs": [],
   "source": [
    "Total_hrs= Total_min/60"
   ]
  },
  {
   "cell_type": "code",
   "execution_count": 54,
   "id": "6b8723ac-88f4-4405-b462-99c81eea4ab7",
   "metadata": {},
   "outputs": [
    {
     "data": {
      "text/plain": [
       "2.1666666666666665"
      ]
     },
     "execution_count": 54,
     "metadata": {},
     "output_type": "execute_result"
    }
   ],
   "source": [
    "Total_hrs"
   ]
  },
  {
   "cell_type": "code",
   "execution_count": 55,
   "id": "8f30e352-75d1-48b6-a6f2-a0203d319a0d",
   "metadata": {},
   "outputs": [],
   "source": [
    "a= 30 + 20 * 20"
   ]
  },
  {
   "cell_type": "code",
   "execution_count": 56,
   "id": "2e45808a-ad25-4045-be7d-af1d1f4c0c88",
   "metadata": {},
   "outputs": [
    {
     "data": {
      "text/plain": [
       "430"
      ]
     },
     "execution_count": 56,
     "metadata": {},
     "output_type": "execute_result"
    }
   ],
   "source": [
    "a"
   ]
  },
  {
   "cell_type": "code",
   "execution_count": 57,
   "id": "5b10e063-165f-4d9b-8b83-c1d7e6140b70",
   "metadata": {},
   "outputs": [
    {
     "data": {
      "text/plain": [
       "5.0"
      ]
     },
     "execution_count": 57,
     "metadata": {},
     "output_type": "execute_result"
    }
   ],
   "source": [
    "(55-5)/10"
   ]
  },
  {
   "cell_type": "code",
   "execution_count": 58,
   "id": "fa049463-0365-4ed0-b628-71a99fb73000",
   "metadata": {},
   "outputs": [
    {
     "data": {
      "text/plain": [
       "5.0"
      ]
     },
     "execution_count": 58,
     "metadata": {},
     "output_type": "execute_result"
    }
   ],
   "source": [
    "(6*10)/12"
   ]
  },
  {
   "cell_type": "code",
   "execution_count": 59,
   "id": "0b82c5a2-2407-4c7c-bf4f-4236d6aa1f7a",
   "metadata": {},
   "outputs": [
    {
     "data": {
      "text/plain": [
       "5.0"
      ]
     },
     "execution_count": 59,
     "metadata": {},
     "output_type": "execute_result"
    }
   ],
   "source": [
    "6*10/12\n"
   ]
  },
  {
   "cell_type": "code",
   "execution_count": 60,
   "id": "eac00d0b-d504-49ec-a2d4-816150c1df5f",
   "metadata": {},
   "outputs": [],
   "source": [
    "x= 3+3*2"
   ]
  },
  {
   "cell_type": "code",
   "execution_count": 61,
   "id": "cf8e90f8-28b9-40cf-b5cb-f77c246bc6dc",
   "metadata": {},
   "outputs": [
    {
     "data": {
      "text/plain": [
       "9"
      ]
     },
     "execution_count": 61,
     "metadata": {},
     "output_type": "execute_result"
    }
   ],
   "source": [
    "x"
   ]
  },
  {
   "cell_type": "code",
   "execution_count": 63,
   "id": "ec4bd582-3dd4-4f1e-97e5-29c40df70470",
   "metadata": {},
   "outputs": [],
   "source": [
    "x= (3+3)*2\n"
   ]
  },
  {
   "cell_type": "code",
   "execution_count": 64,
   "id": "ed8fca71-f460-4f79-b8e4-eaf82486b7ea",
   "metadata": {},
   "outputs": [
    {
     "data": {
      "text/plain": [
       "12"
      ]
     },
     "execution_count": 64,
     "metadata": {},
     "output_type": "execute_result"
    }
   ],
   "source": [
    "x"
   ]
  },
  {
   "cell_type": "markdown",
   "id": "51210ed5-dcb0-4d3c-9a9a-c6c5197822a8",
   "metadata": {},
   "source": [
    "##  CONDITIONAL EXPRESSION\n"
   ]
  },
  {
   "cell_type": "markdown",
   "id": "81ae7673-e961-49a7-b2f9-28efb1ff96c4",
   "metadata": {},
   "source": [
    "### IF STATEMENT"
   ]
  },
  {
   "cell_type": "code",
   "execution_count": 71,
   "id": "2fcbedb0-1467-4469-8279-c261dd49e2e4",
   "metadata": {},
   "outputs": [
    {
     "name": "stdout",
     "output_type": "stream",
     "text": [
      "He is eligible to vote\n"
     ]
    }
   ],
   "source": [
    "age=17\n",
    "if age>=15:\n",
    "    print(\"He is eligible to vote\")\n",
    "else:\n",
    "    print(\"Age is below 15\")\n",
    "    \n",
    "    "
   ]
  },
  {
   "cell_type": "code",
   "execution_count": 74,
   "id": "3e4a7c54-9fa8-4a8f-b6f2-f0ff57de2082",
   "metadata": {},
   "outputs": [
    {
     "name": "stdin",
     "output_type": "stream",
     "text": [
      "Enter age of the person 6\n"
     ]
    },
    {
     "name": "stdout",
     "output_type": "stream",
     "text": [
      "You are not elegible to get a license\n"
     ]
    }
   ],
   "source": [
    "age= int(input(\"Enter age of the person\"))\n",
    "if age>18:\n",
    "    print(\"You are elegible to get a license\")\n",
    "else:\n",
    "    print(\"You are not elegible to get a license\")"
   ]
  },
  {
   "cell_type": "code",
   "execution_count": 78,
   "id": "136cf0c5-2e1e-4ade-98d8-5d8d2cb08cd6",
   "metadata": {},
   "outputs": [
    {
     "name": "stdin",
     "output_type": "stream",
     "text": [
      "Enter percentage of the student 90\n"
     ]
    },
    {
     "name": "stdout",
     "output_type": "stream",
     "text": [
      "A plus\n"
     ]
    }
   ],
   "source": [
    "Grade= int(input(\"Enter percentage of the student\"))\n",
    "if Grade>=90:\n",
    "    print(\"A plus\")\n",
    "elif Grade>=80:\n",
    "    print(\"A \")\n",
    "elif Grade>=60:\n",
    "    print(\"B plus\")\n",
    "elif Grade>=40:\n",
    "    print(\"B\")\n",
    "else:\n",
    "    print(\"Fail\")"
   ]
  },
  {
   "cell_type": "code",
   "execution_count": 79,
   "id": "c40257e5-03d0-4c97-9697-4803a5d5958e",
   "metadata": {},
   "outputs": [
    {
     "name": "stdin",
     "output_type": "stream",
     "text": [
      "Enter percentage of the student 80\n"
     ]
    },
    {
     "name": "stdout",
     "output_type": "stream",
     "text": [
      "A \n"
     ]
    }
   ],
   "source": [
    "Grade= int(input(\"Enter percentage of the student\"))\n",
    "if Grade>=90:\n",
    "    print(\"A plus\")\n",
    "elif Grade>=80:\n",
    "    print(\"A \")\n",
    "elif Grade>=60:\n",
    "    print(\"B plus\")\n",
    "elif Grade>=40:\n",
    "    print(\"B\")\n"
   ]
  },
  {
   "cell_type": "code",
   "execution_count": null,
   "id": "8c61b73c-5d7d-4aec-abc6-17ff6b25951d",
   "metadata": {},
   "outputs": [],
   "source": []
  }
 ],
 "metadata": {
  "kernelspec": {
   "display_name": "Python 3 (ipykernel)",
   "language": "python",
   "name": "python3"
  },
  "language_info": {
   "codemirror_mode": {
    "name": "ipython",
    "version": 3
   },
   "file_extension": ".py",
   "mimetype": "text/x-python",
   "name": "python",
   "nbconvert_exporter": "python",
   "pygments_lexer": "ipython3",
   "version": "3.13.2"
  }
 },
 "nbformat": 4,
 "nbformat_minor": 5
}
