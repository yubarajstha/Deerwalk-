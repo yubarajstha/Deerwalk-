{
 "cells": [
  {
   "cell_type": "markdown",
   "id": "47818e92-ee27-4445-9171-64c4b384975c",
   "metadata": {},
   "source": [
    "# DAY2\n"
   ]
  },
  {
   "cell_type": "code",
   "execution_count": null,
   "id": "efdd3975-2eec-4c26-9e61-c6c6c2a0c2ad",
   "metadata": {},
   "outputs": [],
   "source": []
  }
 ],
 "metadata": {
  "kernelspec": {
   "display_name": "Python 3 (ipykernel)",
   "language": "python",
   "name": "python3"
  },
  "language_info": {
   "codemirror_mode": {
    "name": "ipython",
    "version": 3
   },
   "file_extension": ".py",
   "mimetype": "text/x-python",
   "name": "python",
   "nbconvert_exporter": "python",
   "pygments_lexer": "ipython3",
   "version": "3.13.2"
  }
 },
 "nbformat": 4,
 "nbformat_minor": 5
}
