{
 "cells": [
  {
   "cell_type": "markdown",
   "id": "387870d1-9609-4056-bd9a-f58ceb91f0b0",
   "metadata": {},
   "source": [
    "## Day 4\n"
   ]
  },
  {
   "cell_type": "markdown",
   "id": "1a9e97b8-ccb9-4818-89b3-a856b019ba56",
   "metadata": {},
   "source": [
    "## Dictionary"
   ]
  },
  {
   "cell_type": "code",
   "execution_count": 2,
   "id": "a4f64106-1238-48d7-9eff-fc704e017afa",
   "metadata": {},
   "outputs": [],
   "source": [
    "dict= { \"math\": 40, \"science\": 50,\"computer\": 70, \"dsa\": 90}"
   ]
  },
  {
   "cell_type": "code",
   "execution_count": 3,
   "id": "5d11487a-e8f3-47a9-bde4-71ef9209533c",
   "metadata": {},
   "outputs": [
    {
     "data": {
      "text/plain": [
       "{'math': 40, 'science': 50, 'computer': 70, 'dsa': 90}"
      ]
     },
     "execution_count": 3,
     "metadata": {},
     "output_type": "execute_result"
    }
   ],
   "source": [
    "dict"
   ]
  },
  {
   "cell_type": "code",
   "execution_count": 4,
   "id": "00c57b40-bb1b-43d9-911b-6405a55c462b",
   "metadata": {},
   "outputs": [
    {
     "data": {
      "text/plain": [
       "40"
      ]
     },
     "execution_count": 4,
     "metadata": {},
     "output_type": "execute_result"
    }
   ],
   "source": [
    "dict[\"math\"]"
   ]
  },
  {
   "cell_type": "code",
   "execution_count": 5,
   "id": "0b063532-5fba-4cfd-ba5e-15468ca3d738",
   "metadata": {},
   "outputs": [],
   "source": [
    "Dict= { \"math\": 40, \"science\": 50,\"computer\": 70, \"dsa\": 90,(0,1): 6}\n"
   ]
  },
  {
   "cell_type": "code",
   "execution_count": 6,
   "id": "2f964abc-472c-423b-b805-d5e0e11841a1",
   "metadata": {},
   "outputs": [
    {
     "data": {
      "text/plain": [
       "{'math': 40, 'science': 50, 'computer': 70, 'dsa': 90, (0, 1): 6}"
      ]
     },
     "execution_count": 6,
     "metadata": {},
     "output_type": "execute_result"
    }
   ],
   "source": [
    "Dict"
   ]
  },
  {
   "cell_type": "code",
   "execution_count": 7,
   "id": "aec70e83-3714-4b84-82c3-7d1ebb259a55",
   "metadata": {},
   "outputs": [
    {
     "data": {
      "text/plain": [
       "6"
      ]
     },
     "execution_count": 7,
     "metadata": {},
     "output_type": "execute_result"
    }
   ],
   "source": [
    "Dict[(0,1)]"
   ]
  },
  {
   "cell_type": "code",
   "execution_count": 11,
   "id": "f7605a5b-e2fa-4d68-82e2-97bf811af5cc",
   "metadata": {},
   "outputs": [],
   "source": [
    "release_year={\"thriller\": \"1982\", \"back in black\": \"1980\",\"the dark side of the moon\":\"1973\",\"the body guard\": \"1982\",\"bat out of the hell\":\"1977\",\"their greaest hits(1971-1975)\": \"1976\",\"saturday night favout\":\"1977\",\"rumours\":\"1977\"}"
   ]
  },
  {
   "cell_type": "code",
   "execution_count": 12,
   "id": "ba847943-2314-414a-b170-5948a9bbc148",
   "metadata": {},
   "outputs": [
    {
     "data": {
      "text/plain": [
       "{'thriller': '1982',\n",
       " 'back in black': '1980',\n",
       " 'the dark side of the moon': '1973',\n",
       " 'the body guard': '1982',\n",
       " 'bat out of the hell': '1977',\n",
       " 'their greaest hits(1971-1975)': '1976',\n",
       " 'saturday night favout': '1977',\n",
       " 'rumours': '1977'}"
      ]
     },
     "execution_count": 12,
     "metadata": {},
     "output_type": "execute_result"
    }
   ],
   "source": [
    "release_year"
   ]
  },
  {
   "cell_type": "code",
   "execution_count": 13,
   "id": "2f8e9dc1-a495-4191-af82-49b31e586c80",
   "metadata": {},
   "outputs": [
    {
     "data": {
      "text/plain": [
       "dict_keys(['thriller', 'back in black', 'the dark side of the moon', 'the body guard', 'bat out of the hell', 'their greaest hits(1971-1975)', 'saturday night favout', 'rumours'])"
      ]
     },
     "execution_count": 13,
     "metadata": {},
     "output_type": "execute_result"
    }
   ],
   "source": [
    "release_year.keys()"
   ]
  },
  {
   "cell_type": "code",
   "execution_count": 14,
   "id": "6e9d7bac-c7b6-4270-aa9c-935b9382e073",
   "metadata": {},
   "outputs": [
    {
     "data": {
      "text/plain": [
       "dict_values(['1982', '1980', '1973', '1982', '1977', '1976', '1977', '1977'])"
      ]
     },
     "execution_count": 14,
     "metadata": {},
     "output_type": "execute_result"
    }
   ],
   "source": [
    "release_year.values()"
   ]
  },
  {
   "cell_type": "code",
   "execution_count": 15,
   "id": "1c7cf3b0-a9fa-41c3-9c37-78802867f042",
   "metadata": {},
   "outputs": [],
   "source": [
    "release_year[\"graduation\"]=\"2007\""
   ]
  },
  {
   "cell_type": "code",
   "execution_count": 16,
   "id": "e8dfa865-dabb-4263-9035-9fb7908f25da",
   "metadata": {},
   "outputs": [
    {
     "data": {
      "text/plain": [
       "{'thriller': '1982',\n",
       " 'back in black': '1980',\n",
       " 'the dark side of the moon': '1973',\n",
       " 'the body guard': '1982',\n",
       " 'bat out of the hell': '1977',\n",
       " 'their greaest hits(1971-1975)': '1976',\n",
       " 'saturday night favout': '1977',\n",
       " 'rumours': '1977',\n",
       " 'graduation': '2007'}"
      ]
     },
     "execution_count": 16,
     "metadata": {},
     "output_type": "execute_result"
    }
   ],
   "source": [
    "release_year"
   ]
  },
  {
   "cell_type": "code",
   "execution_count": 17,
   "id": "0214901b-d182-4c88-9a41-e44b06b83b0c",
   "metadata": {},
   "outputs": [],
   "source": [
    "del(release_year[\"rumours\"])"
   ]
  },
  {
   "cell_type": "code",
   "execution_count": 18,
   "id": "5b56710d-2d30-4909-b671-d3300b6a92f8",
   "metadata": {},
   "outputs": [
    {
     "data": {
      "text/plain": [
       "{'thriller': '1982',\n",
       " 'back in black': '1980',\n",
       " 'the dark side of the moon': '1973',\n",
       " 'the body guard': '1982',\n",
       " 'bat out of the hell': '1977',\n",
       " 'their greaest hits(1971-1975)': '1976',\n",
       " 'saturday night favout': '1977',\n",
       " 'graduation': '2007'}"
      ]
     },
     "execution_count": 18,
     "metadata": {},
     "output_type": "execute_result"
    }
   ],
   "source": [
    "release_year"
   ]
  },
  {
   "cell_type": "markdown",
   "id": "445f3797-6188-4bb4-8cf0-096c00a42fc1",
   "metadata": {},
   "source": [
    "## check data "
   ]
  },
  {
   "cell_type": "code",
   "execution_count": 20,
   "id": "cd664e04-e490-4f88-a9b2-9882a128e5ef",
   "metadata": {},
   "outputs": [
    {
     "data": {
      "text/plain": [
       "True"
      ]
     },
     "execution_count": 20,
     "metadata": {},
     "output_type": "execute_result"
    }
   ],
   "source": [
    "\"thriller\" in release_year"
   ]
  },
  {
   "cell_type": "code",
   "execution_count": 21,
   "id": "de20bc34-47f3-40e7-a79b-ed1d1eac498f",
   "metadata": {},
   "outputs": [
    {
     "data": {
      "text/plain": [
       "False"
      ]
     },
     "execution_count": 21,
     "metadata": {},
     "output_type": "execute_result"
    }
   ],
   "source": [
    "\"no body\" in release_year"
   ]
  },
  {
   "cell_type": "code",
   "execution_count": 22,
   "id": "baca2afa-5bcd-432f-ba54-bef7e76598c7",
   "metadata": {},
   "outputs": [],
   "source": [
    "soundtrack_dict={\"The body guard\":\"1992\",\"Saturday night fever\":\"1977\"}"
   ]
  },
  {
   "cell_type": "code",
   "execution_count": 23,
   "id": "8dd6dcf7-8fe4-46b4-812d-d67d2b5b6df5",
   "metadata": {},
   "outputs": [
    {
     "data": {
      "text/plain": [
       "{'The body guard': '1992', 'Saturday night fever': '1977'}"
      ]
     },
     "execution_count": 23,
     "metadata": {},
     "output_type": "execute_result"
    }
   ],
   "source": [
    "soundtrack_dict\n"
   ]
  },
  {
   "cell_type": "code",
   "execution_count": 24,
   "id": "5abaa95b-77f4-4959-a3b9-817f265cbe55",
   "metadata": {},
   "outputs": [
    {
     "data": {
      "text/plain": [
       "dict_keys(['The body guard', 'Saturday night fever'])"
      ]
     },
     "execution_count": 24,
     "metadata": {},
     "output_type": "execute_result"
    }
   ],
   "source": [
    "soundtrack_dict.keys()"
   ]
  },
  {
   "cell_type": "code",
   "execution_count": 25,
   "id": "de87c9d9-6560-487a-a3b0-91b734b5cf54",
   "metadata": {},
   "outputs": [
    {
     "data": {
      "text/plain": [
       "dict_values(['1992', '1977'])"
      ]
     },
     "execution_count": 25,
     "metadata": {},
     "output_type": "execute_result"
    }
   ],
   "source": [
    "soundtrack_dict.values()"
   ]
  },
  {
   "cell_type": "code",
   "execution_count": 26,
   "id": "01be0486-65e4-4678-9b52-1e68d1ef543a",
   "metadata": {},
   "outputs": [],
   "source": [
    "student={\"name\": \"Yubaraj Shrestha\",\n",
    "        \"score\":{\n",
    "            \"math\": 90,\n",
    "            \"Dsa\": 99,\n",
    "            \"ai\": 98,\n",
    "            \"c programming\": 96\n",
    "        }}"
   ]
  },
  {
   "cell_type": "code",
   "execution_count": 28,
   "id": "c788a0dd-7b06-4731-b8ff-4159084cc82f",
   "metadata": {},
   "outputs": [
    {
     "data": {
      "text/plain": [
       "'Yubaraj Shrestha'"
      ]
     },
     "execution_count": 28,
     "metadata": {},
     "output_type": "execute_result"
    }
   ],
   "source": [
    "student[\"name\"]"
   ]
  },
  {
   "cell_type": "code",
   "execution_count": 30,
   "id": "76ca0bea-9918-4443-acba-a01d51ca0d76",
   "metadata": {},
   "outputs": [
    {
     "data": {
      "text/plain": [
       "90"
      ]
     },
     "execution_count": 30,
     "metadata": {},
     "output_type": "execute_result"
    }
   ],
   "source": [
    "student[\"score\"][\"math\"]"
   ]
  },
  {
   "cell_type": "code",
   "execution_count": 31,
   "id": "45f73073-f380-4171-addf-09c61b0a79d8",
   "metadata": {},
   "outputs": [],
   "source": [
    "student[\"score\"][\"c++\"]= 89"
   ]
  },
  {
   "cell_type": "code",
   "execution_count": 32,
   "id": "e9333349-43d0-4226-aa86-7755e76a64c9",
   "metadata": {},
   "outputs": [
    {
     "data": {
      "text/plain": [
       "{'name': 'Yubaraj Shrestha',\n",
       " 'score': {'math': 90, 'Dsa': 99, 'ai': 98, 'c programming': 96, 'c++': 89}}"
      ]
     },
     "execution_count": 32,
     "metadata": {},
     "output_type": "execute_result"
    }
   ],
   "source": [
    "student"
   ]
  },
  {
   "cell_type": "markdown",
   "id": "a4f73358-a724-4d5b-96fe-1af6267e63ca",
   "metadata": {},
   "source": [
    "# Set"
   ]
  },
  {
   "cell_type": "code",
   "execution_count": 33,
   "id": "dec11145-25de-4d29-8a6c-95ac276edbd5",
   "metadata": {},
   "outputs": [],
   "source": [
    "set1={\"Rock\",\"Pop\",\"hard rock\",\"fine rock\",\"very hard rock\",\"disco\",\"pop\",\"hard rock\"}"
   ]
  },
  {
   "cell_type": "code",
   "execution_count": 34,
   "id": "e2989ef1-39f9-47c4-b127-82ac9e07a88c",
   "metadata": {},
   "outputs": [
    {
     "data": {
      "text/plain": [
       "{'Pop', 'Rock', 'disco', 'fine rock', 'hard rock', 'pop', 'very hard rock'}"
      ]
     },
     "execution_count": 34,
     "metadata": {},
     "output_type": "execute_result"
    }
   ],
   "source": [
    "set1"
   ]
  },
  {
   "cell_type": "code",
   "execution_count": 35,
   "id": "90ca32c1-e866-4bee-9f7d-6f7e67bb7bee",
   "metadata": {},
   "outputs": [],
   "source": [
    "A= [\"harry\",\"rajan\",1,7,0,\"Yubaraj\"]\n",
    "album_set= set(A)"
   ]
  },
  {
   "cell_type": "code",
   "execution_count": 36,
   "id": "9fee5f02-6644-4833-8fbe-e5497303ac21",
   "metadata": {},
   "outputs": [
    {
     "data": {
      "text/plain": [
       "set"
      ]
     },
     "execution_count": 36,
     "metadata": {},
     "output_type": "execute_result"
    }
   ],
   "source": [
    "type(album_set)"
   ]
  },
  {
   "cell_type": "code",
   "execution_count": 37,
   "id": "24af233d-e031-43d2-a571-c294d6c265a3",
   "metadata": {},
   "outputs": [
    {
     "data": {
      "text/plain": [
       "{0, 1, 7, 'Yubaraj', 'harry', 'rajan'}"
      ]
     },
     "execution_count": 37,
     "metadata": {},
     "output_type": "execute_result"
    }
   ],
   "source": [
    "album_set"
   ]
  },
  {
   "cell_type": "code",
   "execution_count": 39,
   "id": "ff14d672-43f6-47f8-ae44-1707044e18f2",
   "metadata": {},
   "outputs": [],
   "source": [
    "AA= set([\"thriller\",\"back in black\",\"Ac/Dc\"])"
   ]
  },
  {
   "cell_type": "code",
   "execution_count": 40,
   "id": "92df7038-4e9b-43bf-8c06-a9889a893a9e",
   "metadata": {},
   "outputs": [
    {
     "data": {
      "text/plain": [
       "{'Ac/Dc', 'back in black', 'thriller'}"
      ]
     },
     "execution_count": 40,
     "metadata": {},
     "output_type": "execute_result"
    }
   ],
   "source": [
    "AA"
   ]
  },
  {
   "cell_type": "markdown",
   "id": "2abb280a-85b3-4cf2-97a2-1ce043f28e08",
   "metadata": {},
   "source": [
    "#add data in set"
   ]
  },
  {
   "cell_type": "code",
   "execution_count": 41,
   "id": "9069f047-b400-4ffb-9bc5-13e6d143017e",
   "metadata": {},
   "outputs": [],
   "source": [
    "AA.add(\"harry potter\")"
   ]
  },
  {
   "cell_type": "code",
   "execution_count": 42,
   "id": "af784555-6884-4155-bf54-5a28b5571bf5",
   "metadata": {},
   "outputs": [
    {
     "data": {
      "text/plain": [
       "{'Ac/Dc', 'back in black', 'harry potter', 'thriller'}"
      ]
     },
     "execution_count": 42,
     "metadata": {},
     "output_type": "execute_result"
    }
   ],
   "source": [
    "AA"
   ]
  },
  {
   "cell_type": "code",
   "execution_count": 43,
   "id": "485207b2-210a-404e-ab0a-049598c12e90",
   "metadata": {},
   "outputs": [],
   "source": [
    "AA.add(\"harry potter\")"
   ]
  },
  {
   "cell_type": "code",
   "execution_count": 44,
   "id": "0ed0df7d-1212-419b-babd-f0d4205ecb91",
   "metadata": {},
   "outputs": [
    {
     "data": {
      "text/plain": [
       "{'Ac/Dc', 'back in black', 'harry potter', 'thriller'}"
      ]
     },
     "execution_count": 44,
     "metadata": {},
     "output_type": "execute_result"
    }
   ],
   "source": [
    "AA"
   ]
  },
  {
   "cell_type": "markdown",
   "id": "c8d94ff4-9720-4f48-abdb-929e2edadc7a",
   "metadata": {},
   "source": [
    "#remove data from set"
   ]
  },
  {
   "cell_type": "code",
   "execution_count": 45,
   "id": "0d658668-1bb4-416a-988b-625a6cecc8a1",
   "metadata": {},
   "outputs": [],
   "source": [
    "AA.remove(\"harry potter\")"
   ]
  },
  {
   "cell_type": "code",
   "execution_count": 46,
   "id": "196c1b37-6d1a-4634-8d82-0c19b9f99cf6",
   "metadata": {},
   "outputs": [
    {
     "data": {
      "text/plain": [
       "{'Ac/Dc', 'back in black', 'thriller'}"
      ]
     },
     "execution_count": 46,
     "metadata": {},
     "output_type": "execute_result"
    }
   ],
   "source": [
    "AA"
   ]
  },
  {
   "cell_type": "code",
   "execution_count": 47,
   "id": "9bd302cd-eeca-4120-97ab-4210a3c513b7",
   "metadata": {},
   "outputs": [
    {
     "data": {
      "text/plain": [
       "True"
      ]
     },
     "execution_count": 47,
     "metadata": {},
     "output_type": "execute_result"
    }
   ],
   "source": [
    "\"back in black\" in AA"
   ]
  },
  {
   "cell_type": "code",
   "execution_count": 48,
   "id": "4ee80db9-1c3f-4b76-b98e-21df64ce5300",
   "metadata": {},
   "outputs": [
    {
     "data": {
      "text/plain": [
       "False"
      ]
     },
     "execution_count": 48,
     "metadata": {},
     "output_type": "execute_result"
    }
   ],
   "source": [
    "\"harry potter\" in AA"
   ]
  },
  {
   "cell_type": "code",
   "execution_count": 49,
   "id": "aec68c08-a8bb-4263-9e68-125b4f65b994",
   "metadata": {},
   "outputs": [],
   "source": [
    "album_se1=set([\"Thriller\", \"Back in black\",\"Harry potter\"])\n",
    "album_se2=set([\"AC/DC\", \"Back in black\",\"The dark side of the moon\"])\n"
   ]
  },
  {
   "cell_type": "code",
   "execution_count": 51,
   "id": "a824cc49-59fe-49ac-a852-2990c1ea53c7",
   "metadata": {},
   "outputs": [
    {
     "data": {
      "text/plain": [
       "({'Back in black', 'Harry potter', 'Thriller'},\n",
       " {'AC/DC', 'Back in black', 'The dark side of the moon'})"
      ]
     },
     "execution_count": 51,
     "metadata": {},
     "output_type": "execute_result"
    }
   ],
   "source": [
    "album_se1, album_se2"
   ]
  },
  {
   "cell_type": "code",
   "execution_count": 52,
   "id": "80a15dd1-c7f5-43cb-917c-5895fec72846",
   "metadata": {},
   "outputs": [],
   "source": [
    "intersection = album_se1 & album_se2"
   ]
  },
  {
   "cell_type": "code",
   "execution_count": 55,
   "id": "d6d99a4a-d180-4801-b541-ca4eeddbc6a9",
   "metadata": {},
   "outputs": [
    {
     "data": {
      "text/plain": [
       "{'Back in black'}"
      ]
     },
     "execution_count": 55,
     "metadata": {},
     "output_type": "execute_result"
    }
   ],
   "source": [
    "album_se1.intersection(album_se2)\n"
   ]
  },
  {
   "cell_type": "code",
   "execution_count": 53,
   "id": "814dbdac-334e-494b-95b5-95e279899603",
   "metadata": {},
   "outputs": [
    {
     "data": {
      "text/plain": [
       "{'Back in black'}"
      ]
     },
     "execution_count": 53,
     "metadata": {},
     "output_type": "execute_result"
    }
   ],
   "source": [
    "intersection"
   ]
  },
  {
   "cell_type": "code",
   "execution_count": 54,
   "id": "55b4b19e-83e4-4789-a93d-ee47510e5d1c",
   "metadata": {},
   "outputs": [
    {
     "data": {
      "text/plain": [
       "{'Harry potter', 'Thriller'}"
      ]
     },
     "execution_count": 54,
     "metadata": {},
     "output_type": "execute_result"
    }
   ],
   "source": [
    "album_se1.difference(album_se2)"
   ]
  },
  {
   "cell_type": "code",
   "execution_count": 56,
   "id": "d5c984c5-db18-489e-b777-56a3cc18b8e8",
   "metadata": {},
   "outputs": [
    {
     "data": {
      "text/plain": [
       "{'AC/DC',\n",
       " 'Back in black',\n",
       " 'Harry potter',\n",
       " 'The dark side of the moon',\n",
       " 'Thriller'}"
      ]
     },
     "execution_count": 56,
     "metadata": {},
     "output_type": "execute_result"
    }
   ],
   "source": [
    "album_se1.union(album_se2)\n"
   ]
  },
  {
   "cell_type": "code",
   "execution_count": 59,
   "id": "0a36e107-dbd1-489e-aeca-64415b6e88ab",
   "metadata": {},
   "outputs": [],
   "source": [
    "union1=album_se1 | album_se2"
   ]
  },
  {
   "cell_type": "code",
   "execution_count": 60,
   "id": "2434b1a8-ac9f-44df-afd8-938a40b425af",
   "metadata": {},
   "outputs": [
    {
     "data": {
      "text/plain": [
       "{'AC/DC',\n",
       " 'Back in black',\n",
       " 'Harry potter',\n",
       " 'The dark side of the moon',\n",
       " 'Thriller'}"
      ]
     },
     "execution_count": 60,
     "metadata": {},
     "output_type": "execute_result"
    }
   ],
   "source": [
    "union1"
   ]
  },
  {
   "cell_type": "code",
   "execution_count": 62,
   "id": "d62a2305-3e43-459e-a47f-e030c16a71fe",
   "metadata": {},
   "outputs": [
    {
     "data": {
      "text/plain": [
       "False"
      ]
     },
     "execution_count": 62,
     "metadata": {},
     "output_type": "execute_result"
    }
   ],
   "source": [
    "set(album_se1). issuperset(album_se2)"
   ]
  },
  {
   "cell_type": "code",
   "execution_count": 63,
   "id": "b33e8f81-9f8a-4b07-8bf5-196e58520b01",
   "metadata": {},
   "outputs": [
    {
     "data": {
      "text/plain": [
       "False"
      ]
     },
     "execution_count": 63,
     "metadata": {},
     "output_type": "execute_result"
    }
   ],
   "source": [
    "set(album_se1). issubset(album_se2)\n"
   ]
  },
  {
   "cell_type": "code",
   "execution_count": 69,
   "id": "375922de-1e8d-46f8-8da1-1586c7357974",
   "metadata": {},
   "outputs": [
    {
     "data": {
      "text/plain": [
       "False"
      ]
     },
     "execution_count": 69,
     "metadata": {},
     "output_type": "execute_result"
    }
   ],
   "source": [
    "set({\"Back in black\",\"AC/Dc\"}).issuperset(album_se2)"
   ]
  },
  {
   "cell_type": "code",
   "execution_count": 70,
   "id": "02eab305-b12f-411d-bdf7-a5895a8c91fa",
   "metadata": {},
   "outputs": [
    {
     "data": {
      "text/plain": [
       "False"
      ]
     },
     "execution_count": 70,
     "metadata": {},
     "output_type": "execute_result"
    }
   ],
   "source": [
    "set({\"Back in black\",\"AC/Dc\"}).issubset(album_se2)\n"
   ]
  },
  {
   "cell_type": "code",
   "execution_count": 68,
   "id": "6dadeee8-9bb5-4de3-9d15-c14a2daf6d07",
   "metadata": {},
   "outputs": [
    {
     "name": "stdin",
     "output_type": "stream",
     "text": [
      "Enter salary: 4999\n"
     ]
    },
    {
     "name": "stdout",
     "output_type": "stream",
     "text": [
      "intern\n"
     ]
    }
   ],
   "source": [
    "salary= int(input(\"Enter salary:\"))\n",
    "if salary >= 10000 and salary <= 25000:\n",
    "    print(\"beginner\")\n",
    "elif salary >= 25000 and salary <= 45000:\n",
    "    print(\"mid level\")\n",
    "elif salary > 45000:\n",
    "    print(\"higher\")\n",
    "else:\n",
    "    print(\"intern\")\n"
   ]
  },
  {
   "cell_type": "code",
   "execution_count": null,
   "id": "0d7b0380-c959-48c1-b37a-8bd4879c5532",
   "metadata": {},
   "outputs": [],
   "source": []
  }
 ],
 "metadata": {
  "kernelspec": {
   "display_name": "Python 3 (ipykernel)",
   "language": "python",
   "name": "python3"
  },
  "language_info": {
   "codemirror_mode": {
    "name": "ipython",
    "version": 3
   },
   "file_extension": ".py",
   "mimetype": "text/x-python",
   "name": "python",
   "nbconvert_exporter": "python",
   "pygments_lexer": "ipython3",
   "version": "3.13.2"
  }
 },
 "nbformat": 4,
 "nbformat_minor": 5
}
