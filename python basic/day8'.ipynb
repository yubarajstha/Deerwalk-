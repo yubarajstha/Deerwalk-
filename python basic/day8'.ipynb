{
 "cells": [
  {
   "cell_type": "code",
   "execution_count": 9,
   "id": "d0792ace-2c12-4091-87b5-f9934f646fd9",
   "metadata": {},
   "outputs": [
    {
     "data": {
      "text/plain": [
       "'File1.txt'"
      ]
     },
     "execution_count": 9,
     "metadata": {},
     "output_type": "execute_result"
    }
   ],
   "source": [
    "example= \"File1.txt\"\n",
    "file1= open(example, \"r\")\n",
    "file1.name"
   ]
  },
  {
   "cell_type": "code",
   "execution_count": 8,
   "id": "29c261f3-d9cd-40d8-82bc-3748eb4328fb",
   "metadata": {},
   "outputs": [
    {
     "data": {
      "text/plain": [
       "'r'"
      ]
     },
     "execution_count": 8,
     "metadata": {},
     "output_type": "execute_result"
    }
   ],
   "source": [
    "file1.mode"
   ]
  },
  {
   "cell_type": "raw",
   "id": "bcb586bd-7a78-42a7-8b38-8965b7f91031",
   "metadata": {},
   "source": [
    "FileContent = file1.read()\n",
    "FileContent\n",
    "print(FileContent)"
   ]
  },
  {
   "cell_type": "code",
   "execution_count": null,
   "id": "28b943d5-6bee-4414-865a-b02c257a1df9",
   "metadata": {},
   "outputs": [],
   "source": [
    "type(FileContain)"
   ]
  },
  {
   "cell_type": "code",
   "execution_count": 13,
   "id": "1b1f2078-84a4-49f8-a3f1-b8fd3435be29",
   "metadata": {},
   "outputs": [],
   "source": [
    "file1.close()"
   ]
  },
  {
   "cell_type": "code",
   "execution_count": 17,
   "id": "81b47f31-f5ae-4129-9ca3-829ff5ef6181",
   "metadata": {},
   "outputs": [
    {
     "name": "stdout",
     "output_type": "stream",
     "text": [
      "This is line one\n",
      "This is line two\n",
      "This is line three\n",
      "This is line four\n",
      "\n"
     ]
    }
   ],
   "source": [
    "with open(example, \"r\") as file1:\n",
    "    FileContent = file1.read()\n",
    "    print(FileContent)"
   ]
  },
  {
   "cell_type": "code",
   "execution_count": 16,
   "id": "07583421-f7b7-4b3d-b37a-bc2e2f560463",
   "metadata": {},
   "outputs": [
    {
     "data": {
      "text/plain": [
       "True"
      ]
     },
     "execution_count": 16,
     "metadata": {},
     "output_type": "execute_result"
    }
   ],
   "source": [
    "file1.closed"
   ]
  },
  {
   "cell_type": "code",
   "execution_count": 19,
   "id": "55a852aa-4e66-4af2-adad-37544fca2f7f",
   "metadata": {},
   "outputs": [
    {
     "name": "stdout",
     "output_type": "stream",
     "text": [
      "This is line one\n",
      "This is line two\n",
      "This is line three\n",
      "This is line four\n",
      "\n"
     ]
    }
   ],
   "source": [
    "print(FileContent)"
   ]
  },
  {
   "cell_type": "code",
   "execution_count": 22,
   "id": "562155c5-84d4-48d6-a504-e91f8bd5711a",
   "metadata": {},
   "outputs": [
    {
     "name": "stdout",
     "output_type": "stream",
     "text": [
      "This\n"
     ]
    }
   ],
   "source": [
    "with open(example, \"r\" ) as file1:\n",
    "    print(file1.read(4))"
   ]
  },
  {
   "cell_type": "code",
   "execution_count": 21,
   "id": "229aef8e-1fde-4756-8251-8ebf41c0e51b",
   "metadata": {},
   "outputs": [
    {
     "name": "stdout",
     "output_type": "stream",
     "text": [
      "This\n",
      " is \n",
      "line on\n",
      "e\n",
      "This is line \n"
     ]
    }
   ],
   "source": [
    "with open(example, \"r\") as file1:\n",
    "    print(file1.read(4))\n",
    "    print(file1.read(4))\n",
    "    print(file1.read(7))\n",
    "    print(file1.read(15))\n",
    "    "
   ]
  },
  {
   "cell_type": "code",
   "execution_count": 23,
   "id": "2c9889af-7c4a-4bbe-88cd-a4c233764a50",
   "metadata": {},
   "outputs": [
    {
     "name": "stdout",
     "output_type": "stream",
     "text": [
      "first line:This is line one\n",
      "\n"
     ]
    }
   ],
   "source": [
    "with open (example, \"r\") as file1:\n",
    "    print(\"first line:\" + file1.readline())"
   ]
  },
  {
   "cell_type": "code",
   "execution_count": 25,
   "id": "b9fa072a-581c-448d-979b-e39c59c0cf3f",
   "metadata": {},
   "outputs": [
    {
     "name": "stdout",
     "output_type": "stream",
     "text": [
      "first line:This is line one\n",
      "\n",
      "This is line two\n",
      "Thi\n"
     ]
    }
   ],
   "source": [
    "with open (example, \"r\") as file1:\n",
    "    print(\"first line:\" + file1.readline(20))\n",
    "    print(file1.read(20)) # return next 20 chars"
   ]
  },
  {
   "cell_type": "code",
   "execution_count": 26,
   "id": "5359b381-96d8-47a3-97de-5088491d22a0",
   "metadata": {},
   "outputs": [
    {
     "name": "stdout",
     "output_type": "stream",
     "text": [
      "Iteration 0 :  This is line one\n",
      "\n",
      "Iteration 1 :  This is line two\n",
      "\n",
      "Iteration 2 :  This is line three\n",
      "\n",
      "Iteration 3 :  This is line four\n",
      "\n"
     ]
    }
   ],
   "source": [
    "with open( example, \"r\") as file1:\n",
    "    i=0\n",
    "    for line in file1:\n",
    "        print(\"Iteration\", str(i), \": \", line)\n",
    "        i = i+1"
   ]
  },
  {
   "cell_type": "code",
   "execution_count": 27,
   "id": "2f2e1bdf-27a7-44b1-abce-174b3b1cb9dd",
   "metadata": {},
   "outputs": [],
   "source": [
    "with open (example, \"r\") as file1:\n",
    "    fileasList = file1.readlines()"
   ]
  },
  {
   "cell_type": "code",
   "execution_count": 29,
   "id": "f774b65c-16a8-4623-8524-4e93f9c7d5cc",
   "metadata": {},
   "outputs": [
    {
     "data": {
      "text/plain": [
       "'This is line one\\n'"
      ]
     },
     "execution_count": 29,
     "metadata": {},
     "output_type": "execute_result"
    }
   ],
   "source": [
    "fileasList[0]"
   ]
  },
  {
   "cell_type": "code",
   "execution_count": 30,
   "id": "a513fb9c-adae-4a38-adf8-bfdfded75d0b",
   "metadata": {},
   "outputs": [
    {
     "data": {
      "text/plain": [
       "'This is line two\\n'"
      ]
     },
     "execution_count": 30,
     "metadata": {},
     "output_type": "execute_result"
    }
   ],
   "source": [
    "fileasList[1]\n"
   ]
  },
  {
   "cell_type": "code",
   "execution_count": 34,
   "id": "fdfe0351-7017-4d07-be3d-0fb4c0e25b8e",
   "metadata": {},
   "outputs": [],
   "source": [
    "# writing file in python\n",
    "exam2 = \"Example2.txt\"\n",
    "with open( exam2,'w') as writefile:\n",
    "    writefile.write(\"This is line A\")"
   ]
  },
  {
   "cell_type": "code",
   "execution_count": 35,
   "id": "f830fd9f-ae34-4447-84e1-f10e9c71e466",
   "metadata": {},
   "outputs": [
    {
     "name": "stdout",
     "output_type": "stream",
     "text": [
      "This is line A\n"
     ]
    }
   ],
   "source": [
    "# read file\n",
    "with open(exam2, \"r\") as testwritefile:\n",
    "    print(testwritefile.read())"
   ]
  },
  {
   "cell_type": "code",
   "execution_count": 37,
   "id": "c4873f09-e6f8-465c-99e2-f91798c4a78f",
   "metadata": {},
   "outputs": [],
   "source": [
    "# write lines to file\n",
    "with open(exam2, 'w') as writefile:\n",
    "    writefile.write(\"This is line A\\n\")\n",
    "    writefile.write(\"This is line B\\n\")"
   ]
  },
  {
   "cell_type": "code",
   "execution_count": 38,
   "id": "9ce00085-841e-4191-9554-d6c164aa3f36",
   "metadata": {},
   "outputs": [
    {
     "name": "stdout",
     "output_type": "stream",
     "text": [
      "This is line A\n",
      "This is line B\n",
      "\n"
     ]
    }
   ],
   "source": [
    "with open(exam2, \"r\") as testwritefile:\n",
    "    print(testwritefile.read())\n",
    "    "
   ]
  },
  {
   "cell_type": "code",
   "execution_count": 39,
   "id": "9e9478f9-2feb-4d09-88c9-83f9db72ce64",
   "metadata": {},
   "outputs": [
    {
     "data": {
      "text/plain": [
       "['This is line A \\n', 'This is line B\\n', 'This is line C \\n']"
      ]
     },
     "execution_count": 39,
     "metadata": {},
     "output_type": "execute_result"
    }
   ],
   "source": [
    "Lines  = [ \"This is line A \\n\", \"This is line B\\n\",\"This is line C \\n\"]\n",
    "Lines"
   ]
  },
  {
   "cell_type": "code",
   "execution_count": 40,
   "id": "0761410f-a8ea-4a34-bb2e-93d615fb9c6e",
   "metadata": {},
   "outputs": [
    {
     "name": "stdout",
     "output_type": "stream",
     "text": [
      "This is line A \n",
      "\n",
      "This is line B\n",
      "\n",
      "This is line C \n",
      "\n"
     ]
    }
   ],
   "source": [
    "with open(\"Example2.txt\", \"w\") as writefile:\n",
    "    for line in Lines:\n",
    "        print(line)\n",
    "        writefile.write(line)"
   ]
  },
  {
   "cell_type": "code",
   "execution_count": 42,
   "id": "b2e8fbbf-9a6b-40d0-999e-40edd720a208",
   "metadata": {},
   "outputs": [
    {
     "name": "stdout",
     "output_type": "stream",
     "text": [
      "This is line A \n",
      "This is line B\n",
      "This is line C \n",
      "\n"
     ]
    }
   ],
   "source": [
    "# verifying if writing to file is successfull or not\n",
    "with open(\"Example2.txt\", 'r') as testwritefile:\n",
    "    print(testwritefile.read())"
   ]
  },
  {
   "cell_type": "markdown",
   "id": "aa92544d-cad0-4ee2-8692-766a465c27bd",
   "metadata": {},
   "source": [
    "# Append mode"
   ]
  },
  {
   "cell_type": "code",
   "execution_count": 48,
   "id": "c47b995d-79c9-4a83-ad64-dca771835268",
   "metadata": {},
   "outputs": [],
   "source": [
    "# wrie  a new line  to text file\n",
    "with open(\"Example2.txt\", \"a\") as testwritefile:\n",
    "    testwritefile.write(\"This is line C\\n\")\n",
    "    testwritefile.write(\"This is line D\\nn\")\n",
    "    testwritefile.write(\"This is line E\\n\")\n",
    "    "
   ]
  },
  {
   "cell_type": "code",
   "execution_count": 49,
   "id": "a1ee1486-c307-4590-a6cd-e88320bc6a1d",
   "metadata": {},
   "outputs": [
    {
     "name": "stdout",
     "output_type": "stream",
     "text": [
      "This is line A \n",
      "This is line B\n",
      "This is line C \n",
      "This is line C\n",
      "This is line DnThis is line E\n",
      "This is line C\n",
      "This is line D\n",
      "nThis is line E\n",
      "This is line C\n",
      "This is line D\n",
      "nThis is line E\n",
      "\n"
     ]
    }
   ],
   "source": [
    "with open(\"Example2.txt\",\"r\") as testwritefile:\n",
    "    print(testwritefile.read())"
   ]
  },
  {
   "cell_type": "code",
   "execution_count": null,
   "id": "e8869f99-084f-4edf-aaf6-ce3ab53659d0",
   "metadata": {},
   "outputs": [],
   "source": []
  }
 ],
 "metadata": {
  "kernelspec": {
   "display_name": "Python 3 (ipykernel)",
   "language": "python",
   "name": "python3"
  },
  "language_info": {
   "codemirror_mode": {
    "name": "ipython",
    "version": 3
   },
   "file_extension": ".py",
   "mimetype": "text/x-python",
   "name": "python",
   "nbconvert_exporter": "python",
   "pygments_lexer": "ipython3",
   "version": "3.13.2"
  }
 },
 "nbformat": 4,
 "nbformat_minor": 5
}
