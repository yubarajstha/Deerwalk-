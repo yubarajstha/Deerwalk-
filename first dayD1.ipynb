{
 "cells": [
  {
   "cell_type": "markdown",
   "id": "db02c8bc-2db6-4d21-99ad-1801d787298f",
   "metadata": {},
   "source": [
    "##program "
   ]
  },
  {
   "cell_type": "raw",
   "id": "cd2864b5-f628-429c-8e78-cbc2deaad8fa",
   "metadata": {},
   "source": [
    "Deerwalk tranning center progogram \n"
   ]
  },
  {
   "cell_type": "code",
   "execution_count": null,
   "id": "f4718f09-5de5-47c0-b465-2e5bb222db71",
   "metadata": {},
   "outputs": [],
   "source": []
  }
 ],
 "metadata": {
  "kernelspec": {
   "display_name": "Python 3 (ipykernel)",
   "language": "python",
   "name": "python3"
  },
  "language_info": {
   "codemirror_mode": {
    "name": "ipython",
    "version": 3
   },
   "file_extension": ".py",
   "mimetype": "text/x-python",
   "name": "python",
   "nbconvert_exporter": "python",
   "pygments_lexer": "ipython3",
   "version": "3.13.2"
  }
 },
 "nbformat": 4,
 "nbformat_minor": 5
}
